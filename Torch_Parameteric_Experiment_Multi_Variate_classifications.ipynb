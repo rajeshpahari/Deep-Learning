{
  "nbformat": 4,
  "nbformat_minor": 0,
  "metadata": {
    "colab": {
      "provenance": [],
      "authorship_tag": "ABX9TyOdfFiVf2pmPsmyy3rqqZGb",
      "include_colab_link": true
    },
    "kernelspec": {
      "name": "python3",
      "display_name": "Python 3"
    },
    "language_info": {
      "name": "python"
    }
  },
  "cells": [
    {
      "cell_type": "markdown",
      "metadata": {
        "id": "view-in-github",
        "colab_type": "text"
      },
      "source": [
        "<a href=\"https://colab.research.google.com/github/rajeshpahari/Deep-Learning/blob/main/Torch_Parameteric_Experiment_Multi_Variate_classifications.ipynb\" target=\"_parent\"><img src=\"https://colab.research.google.com/assets/colab-badge.svg\" alt=\"Open In Colab\"/></a>"
      ]
    },
    {
      "cell_type": "markdown",
      "source": [
        "# Multivariate classification - Parameteric Experiment"
      ],
      "metadata": {
        "id": "dOloXqsYHEPk"
      }
    },
    {
      "cell_type": "code",
      "execution_count": 8,
      "metadata": {
        "id": "eirAbc1YGx0U"
      },
      "outputs": [],
      "source": [
        "#Import Libraries\n",
        "import numpy as np\n",
        "import torch\n",
        "import torch.nn as nn\n",
        "import matplotlib.pyplot as plt\n",
        "import seaborn as sns\n",
        "\n",
        "from IPython import display\n",
        "display.set_matplotlib_formats('svg')"
      ]
    },
    {
      "cell_type": "code",
      "source": [
        "iris=sns.load_dataset('iris')\n",
        "iris.head()"
      ],
      "metadata": {
        "colab": {
          "base_uri": "https://localhost:8080/",
          "height": 206
        },
        "id": "JCif7XS1HKoP",
        "outputId": "1d0fdae9-92d4-4f09-f462-ad61b38719f9"
      },
      "execution_count": 9,
      "outputs": [
        {
          "output_type": "execute_result",
          "data": {
            "text/plain": [
              "   sepal_length  sepal_width  petal_length  petal_width species\n",
              "0           5.1          3.5           1.4          0.2  setosa\n",
              "1           4.9          3.0           1.4          0.2  setosa\n",
              "2           4.7          3.2           1.3          0.2  setosa\n",
              "3           4.6          3.1           1.5          0.2  setosa\n",
              "4           5.0          3.6           1.4          0.2  setosa"
            ],
            "text/html": [
              "\n",
              "  <div id=\"df-3f9818bb-209a-4f13-a094-805bc23189c2\">\n",
              "    <div class=\"colab-df-container\">\n",
              "      <div>\n",
              "<style scoped>\n",
              "    .dataframe tbody tr th:only-of-type {\n",
              "        vertical-align: middle;\n",
              "    }\n",
              "\n",
              "    .dataframe tbody tr th {\n",
              "        vertical-align: top;\n",
              "    }\n",
              "\n",
              "    .dataframe thead th {\n",
              "        text-align: right;\n",
              "    }\n",
              "</style>\n",
              "<table border=\"1\" class=\"dataframe\">\n",
              "  <thead>\n",
              "    <tr style=\"text-align: right;\">\n",
              "      <th></th>\n",
              "      <th>sepal_length</th>\n",
              "      <th>sepal_width</th>\n",
              "      <th>petal_length</th>\n",
              "      <th>petal_width</th>\n",
              "      <th>species</th>\n",
              "    </tr>\n",
              "  </thead>\n",
              "  <tbody>\n",
              "    <tr>\n",
              "      <th>0</th>\n",
              "      <td>5.1</td>\n",
              "      <td>3.5</td>\n",
              "      <td>1.4</td>\n",
              "      <td>0.2</td>\n",
              "      <td>setosa</td>\n",
              "    </tr>\n",
              "    <tr>\n",
              "      <th>1</th>\n",
              "      <td>4.9</td>\n",
              "      <td>3.0</td>\n",
              "      <td>1.4</td>\n",
              "      <td>0.2</td>\n",
              "      <td>setosa</td>\n",
              "    </tr>\n",
              "    <tr>\n",
              "      <th>2</th>\n",
              "      <td>4.7</td>\n",
              "      <td>3.2</td>\n",
              "      <td>1.3</td>\n",
              "      <td>0.2</td>\n",
              "      <td>setosa</td>\n",
              "    </tr>\n",
              "    <tr>\n",
              "      <th>3</th>\n",
              "      <td>4.6</td>\n",
              "      <td>3.1</td>\n",
              "      <td>1.5</td>\n",
              "      <td>0.2</td>\n",
              "      <td>setosa</td>\n",
              "    </tr>\n",
              "    <tr>\n",
              "      <th>4</th>\n",
              "      <td>5.0</td>\n",
              "      <td>3.6</td>\n",
              "      <td>1.4</td>\n",
              "      <td>0.2</td>\n",
              "      <td>setosa</td>\n",
              "    </tr>\n",
              "  </tbody>\n",
              "</table>\n",
              "</div>\n",
              "      <button class=\"colab-df-convert\" onclick=\"convertToInteractive('df-3f9818bb-209a-4f13-a094-805bc23189c2')\"\n",
              "              title=\"Convert this dataframe to an interactive table.\"\n",
              "              style=\"display:none;\">\n",
              "        \n",
              "  <svg xmlns=\"http://www.w3.org/2000/svg\" height=\"24px\"viewBox=\"0 0 24 24\"\n",
              "       width=\"24px\">\n",
              "    <path d=\"M0 0h24v24H0V0z\" fill=\"none\"/>\n",
              "    <path d=\"M18.56 5.44l.94 2.06.94-2.06 2.06-.94-2.06-.94-.94-2.06-.94 2.06-2.06.94zm-11 1L8.5 8.5l.94-2.06 2.06-.94-2.06-.94L8.5 2.5l-.94 2.06-2.06.94zm10 10l.94 2.06.94-2.06 2.06-.94-2.06-.94-.94-2.06-.94 2.06-2.06.94z\"/><path d=\"M17.41 7.96l-1.37-1.37c-.4-.4-.92-.59-1.43-.59-.52 0-1.04.2-1.43.59L10.3 9.45l-7.72 7.72c-.78.78-.78 2.05 0 2.83L4 21.41c.39.39.9.59 1.41.59.51 0 1.02-.2 1.41-.59l7.78-7.78 2.81-2.81c.8-.78.8-2.07 0-2.86zM5.41 20L4 18.59l7.72-7.72 1.47 1.35L5.41 20z\"/>\n",
              "  </svg>\n",
              "      </button>\n",
              "      \n",
              "  <style>\n",
              "    .colab-df-container {\n",
              "      display:flex;\n",
              "      flex-wrap:wrap;\n",
              "      gap: 12px;\n",
              "    }\n",
              "\n",
              "    .colab-df-convert {\n",
              "      background-color: #E8F0FE;\n",
              "      border: none;\n",
              "      border-radius: 50%;\n",
              "      cursor: pointer;\n",
              "      display: none;\n",
              "      fill: #1967D2;\n",
              "      height: 32px;\n",
              "      padding: 0 0 0 0;\n",
              "      width: 32px;\n",
              "    }\n",
              "\n",
              "    .colab-df-convert:hover {\n",
              "      background-color: #E2EBFA;\n",
              "      box-shadow: 0px 1px 2px rgba(60, 64, 67, 0.3), 0px 1px 3px 1px rgba(60, 64, 67, 0.15);\n",
              "      fill: #174EA6;\n",
              "    }\n",
              "\n",
              "    [theme=dark] .colab-df-convert {\n",
              "      background-color: #3B4455;\n",
              "      fill: #D2E3FC;\n",
              "    }\n",
              "\n",
              "    [theme=dark] .colab-df-convert:hover {\n",
              "      background-color: #434B5C;\n",
              "      box-shadow: 0px 1px 3px 1px rgba(0, 0, 0, 0.15);\n",
              "      filter: drop-shadow(0px 1px 2px rgba(0, 0, 0, 0.3));\n",
              "      fill: #FFFFFF;\n",
              "    }\n",
              "  </style>\n",
              "\n",
              "      <script>\n",
              "        const buttonEl =\n",
              "          document.querySelector('#df-3f9818bb-209a-4f13-a094-805bc23189c2 button.colab-df-convert');\n",
              "        buttonEl.style.display =\n",
              "          google.colab.kernel.accessAllowed ? 'block' : 'none';\n",
              "\n",
              "        async function convertToInteractive(key) {\n",
              "          const element = document.querySelector('#df-3f9818bb-209a-4f13-a094-805bc23189c2');\n",
              "          const dataTable =\n",
              "            await google.colab.kernel.invokeFunction('convertToInteractive',\n",
              "                                                     [key], {});\n",
              "          if (!dataTable) return;\n",
              "\n",
              "          const docLinkHtml = 'Like what you see? Visit the ' +\n",
              "            '<a target=\"_blank\" href=https://colab.research.google.com/notebooks/data_table.ipynb>data table notebook</a>'\n",
              "            + ' to learn more about interactive tables.';\n",
              "          element.innerHTML = '';\n",
              "          dataTable['output_type'] = 'display_data';\n",
              "          await google.colab.output.renderOutput(dataTable, element);\n",
              "          const docLink = document.createElement('div');\n",
              "          docLink.innerHTML = docLinkHtml;\n",
              "          element.appendChild(docLink);\n",
              "        }\n",
              "      </script>\n",
              "    </div>\n",
              "  </div>\n",
              "  "
            ]
          },
          "metadata": {},
          "execution_count": 9
        }
      ]
    },
    {
      "cell_type": "code",
      "source": [
        "#sns.pairplot(iris,hue='species')"
      ],
      "metadata": {
        "id": "_QYCB0NjG_YC"
      },
      "execution_count": 10,
      "outputs": []
    },
    {
      "cell_type": "code",
      "source": [
        "#Organize data\n",
        "data=torch.tensor(iris[iris.columns[0:4]].values).float()\n",
        "\n",
        "#Transform Species to a number\n",
        "labels=torch.zeros(len(data),dtype=torch.long)\n",
        "labels[iris.species=='versicolor']=1\n",
        "labels[iris.species=='virginica']=2\n",
        "# labels\n",
        "# labels.unique()\n",
        "\n"
      ],
      "metadata": {
        "id": "yI6ANa_WIHFy"
      },
      "execution_count": 11,
      "outputs": []
    },
    {
      "cell_type": "code",
      "source": [
        "#iris.species.unique()"
      ],
      "metadata": {
        "id": "WaUlE2-0Iytg"
      },
      "execution_count": 12,
      "outputs": []
    },
    {
      "cell_type": "code",
      "source": [
        "#########Create The ANN Model with n non of hidden layer\n",
        "def CreateIris(nHidden):\n",
        "\n",
        "  #Model Architechture\n",
        "  ANNiris=nn.Sequential(\n",
        "      nn.Linear(4,nHidden),\n",
        "      nn.ReLU(),\n",
        "      nn.Linear(nHidden,nHidden),\n",
        "      nn.ReLU(),\n",
        "      nn.Linear(nHidden,3)\n",
        "      )\n",
        "\n",
        "  #Lossfunction\n",
        "  lossfunc=nn.CrossEntropyLoss()\n",
        "\n",
        "  #Optimizer\n",
        "  optimizer=torch.optim.SGD(ANNiris.parameters(),lr=.02)\n",
        "\n",
        "  return ANNiris,lossfunc,optimizer\n",
        "\n",
        "\n",
        "\n"
      ],
      "metadata": {
        "id": "QiUQXa1cJFaF"
      },
      "execution_count": 13,
      "outputs": []
    },
    {
      "cell_type": "code",
      "source": [
        "###################Train the Model\n",
        "def trainIris(ANNiris):\n",
        "\n",
        "\n",
        "  #numepochs=1000\n",
        "\n",
        "  #initialize loss\n",
        "  losses=torch.zeros(numepochs)\n",
        "  ongoingACC=[]\n",
        "\n",
        "  #Traning Loop\n",
        "\n",
        "  for epochi in range(numepochs):\n",
        "\n",
        "    yHat=ANNiris(data)\n",
        "\n",
        "    #compute Loss\n",
        "    loss=lossfunc(yHat,labels)\n",
        "    losses[epochi]=loss\n",
        "\n",
        "    #Backprop\n",
        "    optimizer.zero_grad()\n",
        "    loss.backward()\n",
        "    optimizer.step()\n",
        "\n",
        "\n",
        "\n",
        "  #Compute Accuracy\n",
        "  matches=torch.argmax(yHat,axis=1)==labels\n",
        "  matchMumeric=matches.float()\n",
        "  accuracyPCT=100*torch.mean(matchMumeric)\n",
        "  ongoingACC.append(accuracyPCT)\n",
        "\n",
        "\n",
        "  #final forward pass\n",
        "  pred=ANNiris(data)\n",
        "\n",
        "  predlabels=torch.argmax(pred,axis=1)\n",
        "  return 100*torch.mean((predlabels==labels).float())\n",
        "\n",
        "\n",
        "\n",
        "\n",
        "\n",
        "\n",
        "\n",
        "\n",
        "\n",
        "\n"
      ],
      "metadata": {
        "id": "U7Cqjnl2tLx7"
      },
      "execution_count": 17,
      "outputs": []
    },
    {
      "cell_type": "code",
      "source": [
        "from typing_extensions import Annotated\n",
        "######################Run the Experiment\n",
        "\n",
        "numepochs=150\n",
        "numHidden=np.arange(1,129)\n",
        "accuracies=[]\n",
        "\n",
        "for nunits in numHidden:\n",
        "  ANNiris,lossfunc,optimizer=CreateIris(nunits)\n",
        "\n",
        "  #Run the Model\n",
        "  acc=trainIris(ANNiris)\n",
        "  accuracies.append(acc)\n",
        "\n",
        "  \n",
        "\n"
      ],
      "metadata": {
        "id": "UdHsDJ0bMrPr"
      },
      "execution_count": 19,
      "outputs": []
    },
    {
      "cell_type": "code",
      "source": [
        "fig,ax=plt.subplots(1,figsize=(14,8))\n",
        "\n",
        "ax.plot(accuracies,'ko-',markerfacecolor='w',markersize=9)\n",
        "ax.plot(numHidden[[0,-1]],[33,33],'--',color=[.8,.8,.8])\n",
        "ax.plot(numHidden[[0,-1]],[67,67],'--',color=[.8,.8,.8])\n",
        "ax.set_xlabel('Number of Hidden units')\n",
        "ax.set_ylabel('Accuracy')\n",
        "plt.show()\n"
      ],
      "metadata": {
        "colab": {
          "base_uri": "https://localhost:8080/",
          "height": 661
        },
        "id": "qgZ-ErkBNfI4",
        "outputId": "1d8f6c96-bbf3-4c40-d911-c6cf882c0314"
      },
      "execution_count": 20,
      "outputs": [
        {
          "output_type": "display_data",
          "data": {
            "text/plain": [
              "<Figure size 1008x576 with 1 Axes>"
            ],
            "image/svg+xml": "<?xml version=\"1.0\" encoding=\"utf-8\" standalone=\"no\"?>\n<!DOCTYPE svg PUBLIC \"-//W3C//DTD SVG 1.1//EN\"\n  \"http://www.w3.org/Graphics/SVG/1.1/DTD/svg11.dtd\">\n<!-- Created with matplotlib (https://matplotlib.org/) -->\n<svg height=\"479.63625pt\" version=\"1.1\" viewBox=\"0 0 835.365625 479.63625\" width=\"835.365625pt\" xmlns=\"http://www.w3.org/2000/svg\" xmlns:xlink=\"http://www.w3.org/1999/xlink\">\n <defs>\n  <style type=\"text/css\">\n*{stroke-linecap:butt;stroke-linejoin:round;}\n  </style>\n </defs>\n <g id=\"figure_1\">\n  <g id=\"patch_1\">\n   <path d=\"M 0 479.63625 \nL 835.365625 479.63625 \nL 835.365625 0 \nL 0 0 \nz\n\" style=\"fill:none;\"/>\n  </g>\n  <g id=\"axes_1\">\n   <g id=\"patch_2\">\n    <path d=\"M 46.965625 442.08 \nL 828.165625 442.08 \nL 828.165625 7.2 \nL 46.965625 7.2 \nz\n\" style=\"fill:#ffffff;\"/>\n   </g>\n   <g id=\"matplotlib.axis_1\">\n    <g id=\"xtick_1\">\n     <g id=\"line2d_1\">\n      <defs>\n       <path d=\"M 0 0 \nL 0 3.5 \n\" id=\"m571810f6be\" style=\"stroke:#000000;stroke-width:0.8;\"/>\n      </defs>\n      <g>\n       <use style=\"stroke:#000000;stroke-width:0.8;\" x=\"82.474716\" xlink:href=\"#m571810f6be\" y=\"442.08\"/>\n      </g>\n     </g>\n     <g id=\"text_1\">\n      <!-- 0 -->\n      <defs>\n       <path d=\"M 31.78125 66.40625 \nQ 24.171875 66.40625 20.328125 58.90625 \nQ 16.5 51.421875 16.5 36.375 \nQ 16.5 21.390625 20.328125 13.890625 \nQ 24.171875 6.390625 31.78125 6.390625 \nQ 39.453125 6.390625 43.28125 13.890625 \nQ 47.125 21.390625 47.125 36.375 \nQ 47.125 51.421875 43.28125 58.90625 \nQ 39.453125 66.40625 31.78125 66.40625 \nz\nM 31.78125 74.21875 \nQ 44.046875 74.21875 50.515625 64.515625 \nQ 56.984375 54.828125 56.984375 36.375 \nQ 56.984375 17.96875 50.515625 8.265625 \nQ 44.046875 -1.421875 31.78125 -1.421875 \nQ 19.53125 -1.421875 13.0625 8.265625 \nQ 6.59375 17.96875 6.59375 36.375 \nQ 6.59375 54.828125 13.0625 64.515625 \nQ 19.53125 74.21875 31.78125 74.21875 \nz\n\" id=\"DejaVuSans-48\"/>\n      </defs>\n      <g transform=\"translate(79.293466 456.678437)scale(0.1 -0.1)\">\n       <use xlink:href=\"#DejaVuSans-48\"/>\n      </g>\n     </g>\n    </g>\n    <g id=\"xtick_2\">\n     <g id=\"line2d_2\">\n      <g>\n       <use style=\"stroke:#000000;stroke-width:0.8;\" x=\"193.440625\" xlink:href=\"#m571810f6be\" y=\"442.08\"/>\n      </g>\n     </g>\n     <g id=\"text_2\">\n      <!-- 20 -->\n      <defs>\n       <path d=\"M 19.1875 8.296875 \nL 53.609375 8.296875 \nL 53.609375 0 \nL 7.328125 0 \nL 7.328125 8.296875 \nQ 12.9375 14.109375 22.625 23.890625 \nQ 32.328125 33.6875 34.8125 36.53125 \nQ 39.546875 41.84375 41.421875 45.53125 \nQ 43.3125 49.21875 43.3125 52.78125 \nQ 43.3125 58.59375 39.234375 62.25 \nQ 35.15625 65.921875 28.609375 65.921875 \nQ 23.96875 65.921875 18.8125 64.3125 \nQ 13.671875 62.703125 7.8125 59.421875 \nL 7.8125 69.390625 \nQ 13.765625 71.78125 18.9375 73 \nQ 24.125 74.21875 28.421875 74.21875 \nQ 39.75 74.21875 46.484375 68.546875 \nQ 53.21875 62.890625 53.21875 53.421875 \nQ 53.21875 48.921875 51.53125 44.890625 \nQ 49.859375 40.875 45.40625 35.40625 \nQ 44.1875 33.984375 37.640625 27.21875 \nQ 31.109375 20.453125 19.1875 8.296875 \nz\n\" id=\"DejaVuSans-50\"/>\n      </defs>\n      <g transform=\"translate(187.078125 456.678437)scale(0.1 -0.1)\">\n       <use xlink:href=\"#DejaVuSans-50\"/>\n       <use x=\"63.623047\" xlink:href=\"#DejaVuSans-48\"/>\n      </g>\n     </g>\n    </g>\n    <g id=\"xtick_3\">\n     <g id=\"line2d_3\">\n      <g>\n       <use style=\"stroke:#000000;stroke-width:0.8;\" x=\"304.406534\" xlink:href=\"#m571810f6be\" y=\"442.08\"/>\n      </g>\n     </g>\n     <g id=\"text_3\">\n      <!-- 40 -->\n      <defs>\n       <path d=\"M 37.796875 64.3125 \nL 12.890625 25.390625 \nL 37.796875 25.390625 \nz\nM 35.203125 72.90625 \nL 47.609375 72.90625 \nL 47.609375 25.390625 \nL 58.015625 25.390625 \nL 58.015625 17.1875 \nL 47.609375 17.1875 \nL 47.609375 0 \nL 37.796875 0 \nL 37.796875 17.1875 \nL 4.890625 17.1875 \nL 4.890625 26.703125 \nz\n\" id=\"DejaVuSans-52\"/>\n      </defs>\n      <g transform=\"translate(298.044034 456.678437)scale(0.1 -0.1)\">\n       <use xlink:href=\"#DejaVuSans-52\"/>\n       <use x=\"63.623047\" xlink:href=\"#DejaVuSans-48\"/>\n      </g>\n     </g>\n    </g>\n    <g id=\"xtick_4\">\n     <g id=\"line2d_4\">\n      <g>\n       <use style=\"stroke:#000000;stroke-width:0.8;\" x=\"415.372443\" xlink:href=\"#m571810f6be\" y=\"442.08\"/>\n      </g>\n     </g>\n     <g id=\"text_4\">\n      <!-- 60 -->\n      <defs>\n       <path d=\"M 33.015625 40.375 \nQ 26.375 40.375 22.484375 35.828125 \nQ 18.609375 31.296875 18.609375 23.390625 \nQ 18.609375 15.53125 22.484375 10.953125 \nQ 26.375 6.390625 33.015625 6.390625 \nQ 39.65625 6.390625 43.53125 10.953125 \nQ 47.40625 15.53125 47.40625 23.390625 \nQ 47.40625 31.296875 43.53125 35.828125 \nQ 39.65625 40.375 33.015625 40.375 \nz\nM 52.59375 71.296875 \nL 52.59375 62.3125 \nQ 48.875 64.0625 45.09375 64.984375 \nQ 41.3125 65.921875 37.59375 65.921875 \nQ 27.828125 65.921875 22.671875 59.328125 \nQ 17.53125 52.734375 16.796875 39.40625 \nQ 19.671875 43.65625 24.015625 45.921875 \nQ 28.375 48.1875 33.59375 48.1875 \nQ 44.578125 48.1875 50.953125 41.515625 \nQ 57.328125 34.859375 57.328125 23.390625 \nQ 57.328125 12.15625 50.6875 5.359375 \nQ 44.046875 -1.421875 33.015625 -1.421875 \nQ 20.359375 -1.421875 13.671875 8.265625 \nQ 6.984375 17.96875 6.984375 36.375 \nQ 6.984375 53.65625 15.1875 63.9375 \nQ 23.390625 74.21875 37.203125 74.21875 \nQ 40.921875 74.21875 44.703125 73.484375 \nQ 48.484375 72.75 52.59375 71.296875 \nz\n\" id=\"DejaVuSans-54\"/>\n      </defs>\n      <g transform=\"translate(409.009943 456.678437)scale(0.1 -0.1)\">\n       <use xlink:href=\"#DejaVuSans-54\"/>\n       <use x=\"63.623047\" xlink:href=\"#DejaVuSans-48\"/>\n      </g>\n     </g>\n    </g>\n    <g id=\"xtick_5\">\n     <g id=\"line2d_5\">\n      <g>\n       <use style=\"stroke:#000000;stroke-width:0.8;\" x=\"526.338352\" xlink:href=\"#m571810f6be\" y=\"442.08\"/>\n      </g>\n     </g>\n     <g id=\"text_5\">\n      <!-- 80 -->\n      <defs>\n       <path d=\"M 31.78125 34.625 \nQ 24.75 34.625 20.71875 30.859375 \nQ 16.703125 27.09375 16.703125 20.515625 \nQ 16.703125 13.921875 20.71875 10.15625 \nQ 24.75 6.390625 31.78125 6.390625 \nQ 38.8125 6.390625 42.859375 10.171875 \nQ 46.921875 13.96875 46.921875 20.515625 \nQ 46.921875 27.09375 42.890625 30.859375 \nQ 38.875 34.625 31.78125 34.625 \nz\nM 21.921875 38.8125 \nQ 15.578125 40.375 12.03125 44.71875 \nQ 8.5 49.078125 8.5 55.328125 \nQ 8.5 64.0625 14.71875 69.140625 \nQ 20.953125 74.21875 31.78125 74.21875 \nQ 42.671875 74.21875 48.875 69.140625 \nQ 55.078125 64.0625 55.078125 55.328125 \nQ 55.078125 49.078125 51.53125 44.71875 \nQ 48 40.375 41.703125 38.8125 \nQ 48.828125 37.15625 52.796875 32.3125 \nQ 56.78125 27.484375 56.78125 20.515625 \nQ 56.78125 9.90625 50.3125 4.234375 \nQ 43.84375 -1.421875 31.78125 -1.421875 \nQ 19.734375 -1.421875 13.25 4.234375 \nQ 6.78125 9.90625 6.78125 20.515625 \nQ 6.78125 27.484375 10.78125 32.3125 \nQ 14.796875 37.15625 21.921875 38.8125 \nz\nM 18.3125 54.390625 \nQ 18.3125 48.734375 21.84375 45.5625 \nQ 25.390625 42.390625 31.78125 42.390625 \nQ 38.140625 42.390625 41.71875 45.5625 \nQ 45.3125 48.734375 45.3125 54.390625 \nQ 45.3125 60.0625 41.71875 63.234375 \nQ 38.140625 66.40625 31.78125 66.40625 \nQ 25.390625 66.40625 21.84375 63.234375 \nQ 18.3125 60.0625 18.3125 54.390625 \nz\n\" id=\"DejaVuSans-56\"/>\n      </defs>\n      <g transform=\"translate(519.975852 456.678437)scale(0.1 -0.1)\">\n       <use xlink:href=\"#DejaVuSans-56\"/>\n       <use x=\"63.623047\" xlink:href=\"#DejaVuSans-48\"/>\n      </g>\n     </g>\n    </g>\n    <g id=\"xtick_6\">\n     <g id=\"line2d_6\">\n      <g>\n       <use style=\"stroke:#000000;stroke-width:0.8;\" x=\"637.304261\" xlink:href=\"#m571810f6be\" y=\"442.08\"/>\n      </g>\n     </g>\n     <g id=\"text_6\">\n      <!-- 100 -->\n      <defs>\n       <path d=\"M 12.40625 8.296875 \nL 28.515625 8.296875 \nL 28.515625 63.921875 \nL 10.984375 60.40625 \nL 10.984375 69.390625 \nL 28.421875 72.90625 \nL 38.28125 72.90625 \nL 38.28125 8.296875 \nL 54.390625 8.296875 \nL 54.390625 0 \nL 12.40625 0 \nz\n\" id=\"DejaVuSans-49\"/>\n      </defs>\n      <g transform=\"translate(627.760511 456.678437)scale(0.1 -0.1)\">\n       <use xlink:href=\"#DejaVuSans-49\"/>\n       <use x=\"63.623047\" xlink:href=\"#DejaVuSans-48\"/>\n       <use x=\"127.246094\" xlink:href=\"#DejaVuSans-48\"/>\n      </g>\n     </g>\n    </g>\n    <g id=\"xtick_7\">\n     <g id=\"line2d_7\">\n      <g>\n       <use style=\"stroke:#000000;stroke-width:0.8;\" x=\"748.27017\" xlink:href=\"#m571810f6be\" y=\"442.08\"/>\n      </g>\n     </g>\n     <g id=\"text_7\">\n      <!-- 120 -->\n      <g transform=\"translate(738.72642 456.678437)scale(0.1 -0.1)\">\n       <use xlink:href=\"#DejaVuSans-49\"/>\n       <use x=\"63.623047\" xlink:href=\"#DejaVuSans-50\"/>\n       <use x=\"127.246094\" xlink:href=\"#DejaVuSans-48\"/>\n      </g>\n     </g>\n    </g>\n    <g id=\"text_8\">\n     <!-- Number of Hidden units -->\n     <defs>\n      <path d=\"M 9.8125 72.90625 \nL 23.09375 72.90625 \nL 55.421875 11.921875 \nL 55.421875 72.90625 \nL 64.984375 72.90625 \nL 64.984375 0 \nL 51.703125 0 \nL 19.390625 60.984375 \nL 19.390625 0 \nL 9.8125 0 \nz\n\" id=\"DejaVuSans-78\"/>\n      <path d=\"M 8.5 21.578125 \nL 8.5 54.6875 \nL 17.484375 54.6875 \nL 17.484375 21.921875 \nQ 17.484375 14.15625 20.5 10.265625 \nQ 23.53125 6.390625 29.59375 6.390625 \nQ 36.859375 6.390625 41.078125 11.03125 \nQ 45.3125 15.671875 45.3125 23.6875 \nL 45.3125 54.6875 \nL 54.296875 54.6875 \nL 54.296875 0 \nL 45.3125 0 \nL 45.3125 8.40625 \nQ 42.046875 3.421875 37.71875 1 \nQ 33.40625 -1.421875 27.6875 -1.421875 \nQ 18.265625 -1.421875 13.375 4.4375 \nQ 8.5 10.296875 8.5 21.578125 \nz\nM 31.109375 56 \nz\n\" id=\"DejaVuSans-117\"/>\n      <path d=\"M 52 44.1875 \nQ 55.375 50.25 60.0625 53.125 \nQ 64.75 56 71.09375 56 \nQ 79.640625 56 84.28125 50.015625 \nQ 88.921875 44.046875 88.921875 33.015625 \nL 88.921875 0 \nL 79.890625 0 \nL 79.890625 32.71875 \nQ 79.890625 40.578125 77.09375 44.375 \nQ 74.3125 48.1875 68.609375 48.1875 \nQ 61.625 48.1875 57.5625 43.546875 \nQ 53.515625 38.921875 53.515625 30.90625 \nL 53.515625 0 \nL 44.484375 0 \nL 44.484375 32.71875 \nQ 44.484375 40.625 41.703125 44.40625 \nQ 38.921875 48.1875 33.109375 48.1875 \nQ 26.21875 48.1875 22.15625 43.53125 \nQ 18.109375 38.875 18.109375 30.90625 \nL 18.109375 0 \nL 9.078125 0 \nL 9.078125 54.6875 \nL 18.109375 54.6875 \nL 18.109375 46.1875 \nQ 21.1875 51.21875 25.484375 53.609375 \nQ 29.78125 56 35.6875 56 \nQ 41.65625 56 45.828125 52.96875 \nQ 50 49.953125 52 44.1875 \nz\n\" id=\"DejaVuSans-109\"/>\n      <path d=\"M 48.6875 27.296875 \nQ 48.6875 37.203125 44.609375 42.84375 \nQ 40.53125 48.484375 33.40625 48.484375 \nQ 26.265625 48.484375 22.1875 42.84375 \nQ 18.109375 37.203125 18.109375 27.296875 \nQ 18.109375 17.390625 22.1875 11.75 \nQ 26.265625 6.109375 33.40625 6.109375 \nQ 40.53125 6.109375 44.609375 11.75 \nQ 48.6875 17.390625 48.6875 27.296875 \nz\nM 18.109375 46.390625 \nQ 20.953125 51.265625 25.265625 53.625 \nQ 29.59375 56 35.59375 56 \nQ 45.5625 56 51.78125 48.09375 \nQ 58.015625 40.1875 58.015625 27.296875 \nQ 58.015625 14.40625 51.78125 6.484375 \nQ 45.5625 -1.421875 35.59375 -1.421875 \nQ 29.59375 -1.421875 25.265625 0.953125 \nQ 20.953125 3.328125 18.109375 8.203125 \nL 18.109375 0 \nL 9.078125 0 \nL 9.078125 75.984375 \nL 18.109375 75.984375 \nz\n\" id=\"DejaVuSans-98\"/>\n      <path d=\"M 56.203125 29.59375 \nL 56.203125 25.203125 \nL 14.890625 25.203125 \nQ 15.484375 15.921875 20.484375 11.0625 \nQ 25.484375 6.203125 34.421875 6.203125 \nQ 39.59375 6.203125 44.453125 7.46875 \nQ 49.3125 8.734375 54.109375 11.28125 \nL 54.109375 2.78125 \nQ 49.265625 0.734375 44.1875 -0.34375 \nQ 39.109375 -1.421875 33.890625 -1.421875 \nQ 20.796875 -1.421875 13.15625 6.1875 \nQ 5.515625 13.8125 5.515625 26.8125 \nQ 5.515625 40.234375 12.765625 48.109375 \nQ 20.015625 56 32.328125 56 \nQ 43.359375 56 49.78125 48.890625 \nQ 56.203125 41.796875 56.203125 29.59375 \nz\nM 47.21875 32.234375 \nQ 47.125 39.59375 43.09375 43.984375 \nQ 39.0625 48.390625 32.421875 48.390625 \nQ 24.90625 48.390625 20.390625 44.140625 \nQ 15.875 39.890625 15.1875 32.171875 \nz\n\" id=\"DejaVuSans-101\"/>\n      <path d=\"M 41.109375 46.296875 \nQ 39.59375 47.171875 37.8125 47.578125 \nQ 36.03125 48 33.890625 48 \nQ 26.265625 48 22.1875 43.046875 \nQ 18.109375 38.09375 18.109375 28.8125 \nL 18.109375 0 \nL 9.078125 0 \nL 9.078125 54.6875 \nL 18.109375 54.6875 \nL 18.109375 46.1875 \nQ 20.953125 51.171875 25.484375 53.578125 \nQ 30.03125 56 36.53125 56 \nQ 37.453125 56 38.578125 55.875 \nQ 39.703125 55.765625 41.0625 55.515625 \nz\n\" id=\"DejaVuSans-114\"/>\n      <path id=\"DejaVuSans-32\"/>\n      <path d=\"M 30.609375 48.390625 \nQ 23.390625 48.390625 19.1875 42.75 \nQ 14.984375 37.109375 14.984375 27.296875 \nQ 14.984375 17.484375 19.15625 11.84375 \nQ 23.34375 6.203125 30.609375 6.203125 \nQ 37.796875 6.203125 41.984375 11.859375 \nQ 46.1875 17.53125 46.1875 27.296875 \nQ 46.1875 37.015625 41.984375 42.703125 \nQ 37.796875 48.390625 30.609375 48.390625 \nz\nM 30.609375 56 \nQ 42.328125 56 49.015625 48.375 \nQ 55.71875 40.765625 55.71875 27.296875 \nQ 55.71875 13.875 49.015625 6.21875 \nQ 42.328125 -1.421875 30.609375 -1.421875 \nQ 18.84375 -1.421875 12.171875 6.21875 \nQ 5.515625 13.875 5.515625 27.296875 \nQ 5.515625 40.765625 12.171875 48.375 \nQ 18.84375 56 30.609375 56 \nz\n\" id=\"DejaVuSans-111\"/>\n      <path d=\"M 37.109375 75.984375 \nL 37.109375 68.5 \nL 28.515625 68.5 \nQ 23.6875 68.5 21.796875 66.546875 \nQ 19.921875 64.59375 19.921875 59.515625 \nL 19.921875 54.6875 \nL 34.71875 54.6875 \nL 34.71875 47.703125 \nL 19.921875 47.703125 \nL 19.921875 0 \nL 10.890625 0 \nL 10.890625 47.703125 \nL 2.296875 47.703125 \nL 2.296875 54.6875 \nL 10.890625 54.6875 \nL 10.890625 58.5 \nQ 10.890625 67.625 15.140625 71.796875 \nQ 19.390625 75.984375 28.609375 75.984375 \nz\n\" id=\"DejaVuSans-102\"/>\n      <path d=\"M 9.8125 72.90625 \nL 19.671875 72.90625 \nL 19.671875 43.015625 \nL 55.515625 43.015625 \nL 55.515625 72.90625 \nL 65.375 72.90625 \nL 65.375 0 \nL 55.515625 0 \nL 55.515625 34.71875 \nL 19.671875 34.71875 \nL 19.671875 0 \nL 9.8125 0 \nz\n\" id=\"DejaVuSans-72\"/>\n      <path d=\"M 9.421875 54.6875 \nL 18.40625 54.6875 \nL 18.40625 0 \nL 9.421875 0 \nz\nM 9.421875 75.984375 \nL 18.40625 75.984375 \nL 18.40625 64.59375 \nL 9.421875 64.59375 \nz\n\" id=\"DejaVuSans-105\"/>\n      <path d=\"M 45.40625 46.390625 \nL 45.40625 75.984375 \nL 54.390625 75.984375 \nL 54.390625 0 \nL 45.40625 0 \nL 45.40625 8.203125 \nQ 42.578125 3.328125 38.25 0.953125 \nQ 33.9375 -1.421875 27.875 -1.421875 \nQ 17.96875 -1.421875 11.734375 6.484375 \nQ 5.515625 14.40625 5.515625 27.296875 \nQ 5.515625 40.1875 11.734375 48.09375 \nQ 17.96875 56 27.875 56 \nQ 33.9375 56 38.25 53.625 \nQ 42.578125 51.265625 45.40625 46.390625 \nz\nM 14.796875 27.296875 \nQ 14.796875 17.390625 18.875 11.75 \nQ 22.953125 6.109375 30.078125 6.109375 \nQ 37.203125 6.109375 41.296875 11.75 \nQ 45.40625 17.390625 45.40625 27.296875 \nQ 45.40625 37.203125 41.296875 42.84375 \nQ 37.203125 48.484375 30.078125 48.484375 \nQ 22.953125 48.484375 18.875 42.84375 \nQ 14.796875 37.203125 14.796875 27.296875 \nz\n\" id=\"DejaVuSans-100\"/>\n      <path d=\"M 54.890625 33.015625 \nL 54.890625 0 \nL 45.90625 0 \nL 45.90625 32.71875 \nQ 45.90625 40.484375 42.875 44.328125 \nQ 39.84375 48.1875 33.796875 48.1875 \nQ 26.515625 48.1875 22.3125 43.546875 \nQ 18.109375 38.921875 18.109375 30.90625 \nL 18.109375 0 \nL 9.078125 0 \nL 9.078125 54.6875 \nL 18.109375 54.6875 \nL 18.109375 46.1875 \nQ 21.34375 51.125 25.703125 53.5625 \nQ 30.078125 56 35.796875 56 \nQ 45.21875 56 50.046875 50.171875 \nQ 54.890625 44.34375 54.890625 33.015625 \nz\n\" id=\"DejaVuSans-110\"/>\n      <path d=\"M 18.3125 70.21875 \nL 18.3125 54.6875 \nL 36.8125 54.6875 \nL 36.8125 47.703125 \nL 18.3125 47.703125 \nL 18.3125 18.015625 \nQ 18.3125 11.328125 20.140625 9.421875 \nQ 21.96875 7.515625 27.59375 7.515625 \nL 36.8125 7.515625 \nL 36.8125 0 \nL 27.59375 0 \nQ 17.1875 0 13.234375 3.875 \nQ 9.28125 7.765625 9.28125 18.015625 \nL 9.28125 47.703125 \nL 2.6875 47.703125 \nL 2.6875 54.6875 \nL 9.28125 54.6875 \nL 9.28125 70.21875 \nz\n\" id=\"DejaVuSans-116\"/>\n      <path d=\"M 44.28125 53.078125 \nL 44.28125 44.578125 \nQ 40.484375 46.53125 36.375 47.5 \nQ 32.28125 48.484375 27.875 48.484375 \nQ 21.1875 48.484375 17.84375 46.4375 \nQ 14.5 44.390625 14.5 40.28125 \nQ 14.5 37.15625 16.890625 35.375 \nQ 19.28125 33.59375 26.515625 31.984375 \nL 29.59375 31.296875 \nQ 39.15625 29.25 43.1875 25.515625 \nQ 47.21875 21.78125 47.21875 15.09375 \nQ 47.21875 7.46875 41.1875 3.015625 \nQ 35.15625 -1.421875 24.609375 -1.421875 \nQ 20.21875 -1.421875 15.453125 -0.5625 \nQ 10.6875 0.296875 5.421875 2 \nL 5.421875 11.28125 \nQ 10.40625 8.6875 15.234375 7.390625 \nQ 20.0625 6.109375 24.8125 6.109375 \nQ 31.15625 6.109375 34.5625 8.28125 \nQ 37.984375 10.453125 37.984375 14.40625 \nQ 37.984375 18.0625 35.515625 20.015625 \nQ 33.0625 21.96875 24.703125 23.78125 \nL 21.578125 24.515625 \nQ 13.234375 26.265625 9.515625 29.90625 \nQ 5.8125 33.546875 5.8125 39.890625 \nQ 5.8125 47.609375 11.28125 51.796875 \nQ 16.75 56 26.8125 56 \nQ 31.78125 56 36.171875 55.265625 \nQ 40.578125 54.546875 44.28125 53.078125 \nz\n\" id=\"DejaVuSans-115\"/>\n     </defs>\n     <g transform=\"translate(377.858594 470.356562)scale(0.1 -0.1)\">\n      <use xlink:href=\"#DejaVuSans-78\"/>\n      <use x=\"74.804688\" xlink:href=\"#DejaVuSans-117\"/>\n      <use x=\"138.183594\" xlink:href=\"#DejaVuSans-109\"/>\n      <use x=\"235.595703\" xlink:href=\"#DejaVuSans-98\"/>\n      <use x=\"299.072266\" xlink:href=\"#DejaVuSans-101\"/>\n      <use x=\"360.595703\" xlink:href=\"#DejaVuSans-114\"/>\n      <use x=\"401.708984\" xlink:href=\"#DejaVuSans-32\"/>\n      <use x=\"433.496094\" xlink:href=\"#DejaVuSans-111\"/>\n      <use x=\"494.677734\" xlink:href=\"#DejaVuSans-102\"/>\n      <use x=\"529.882812\" xlink:href=\"#DejaVuSans-32\"/>\n      <use x=\"561.669922\" xlink:href=\"#DejaVuSans-72\"/>\n      <use x=\"636.865234\" xlink:href=\"#DejaVuSans-105\"/>\n      <use x=\"664.648438\" xlink:href=\"#DejaVuSans-100\"/>\n      <use x=\"728.125\" xlink:href=\"#DejaVuSans-100\"/>\n      <use x=\"791.601562\" xlink:href=\"#DejaVuSans-101\"/>\n      <use x=\"853.125\" xlink:href=\"#DejaVuSans-110\"/>\n      <use x=\"916.503906\" xlink:href=\"#DejaVuSans-32\"/>\n      <use x=\"948.291016\" xlink:href=\"#DejaVuSans-117\"/>\n      <use x=\"1011.669922\" xlink:href=\"#DejaVuSans-110\"/>\n      <use x=\"1075.048828\" xlink:href=\"#DejaVuSans-105\"/>\n      <use x=\"1102.832031\" xlink:href=\"#DejaVuSans-116\"/>\n      <use x=\"1142.041016\" xlink:href=\"#DejaVuSans-115\"/>\n     </g>\n    </g>\n   </g>\n   <g id=\"matplotlib.axis_2\">\n    <g id=\"ytick_1\">\n     <g id=\"line2d_8\">\n      <defs>\n       <path d=\"M 0 0 \nL -3.5 0 \n\" id=\"m35a898c640\" style=\"stroke:#000000;stroke-width:0.8;\"/>\n      </defs>\n      <g>\n       <use style=\"stroke:#000000;stroke-width:0.8;\" x=\"46.965625\" xlink:href=\"#m35a898c640\" y=\"440.559441\"/>\n      </g>\n     </g>\n     <g id=\"text_9\">\n      <!-- 30 -->\n      <defs>\n       <path d=\"M 40.578125 39.3125 \nQ 47.65625 37.796875 51.625 33 \nQ 55.609375 28.21875 55.609375 21.1875 \nQ 55.609375 10.40625 48.1875 4.484375 \nQ 40.765625 -1.421875 27.09375 -1.421875 \nQ 22.515625 -1.421875 17.65625 -0.515625 \nQ 12.796875 0.390625 7.625 2.203125 \nL 7.625 11.71875 \nQ 11.71875 9.328125 16.59375 8.109375 \nQ 21.484375 6.890625 26.8125 6.890625 \nQ 36.078125 6.890625 40.9375 10.546875 \nQ 45.796875 14.203125 45.796875 21.1875 \nQ 45.796875 27.640625 41.28125 31.265625 \nQ 36.765625 34.90625 28.71875 34.90625 \nL 20.21875 34.90625 \nL 20.21875 43.015625 \nL 29.109375 43.015625 \nQ 36.375 43.015625 40.234375 45.921875 \nQ 44.09375 48.828125 44.09375 54.296875 \nQ 44.09375 59.90625 40.109375 62.90625 \nQ 36.140625 65.921875 28.71875 65.921875 \nQ 24.65625 65.921875 20.015625 65.03125 \nQ 15.375 64.15625 9.8125 62.3125 \nL 9.8125 71.09375 \nQ 15.4375 72.65625 20.34375 73.4375 \nQ 25.25 74.21875 29.59375 74.21875 \nQ 40.828125 74.21875 47.359375 69.109375 \nQ 53.90625 64.015625 53.90625 55.328125 \nQ 53.90625 49.265625 50.4375 45.09375 \nQ 46.96875 40.921875 40.578125 39.3125 \nz\n\" id=\"DejaVuSans-51\"/>\n      </defs>\n      <g transform=\"translate(27.240625 444.358659)scale(0.1 -0.1)\">\n       <use xlink:href=\"#DejaVuSans-51\"/>\n       <use x=\"63.623047\" xlink:href=\"#DejaVuSans-48\"/>\n      </g>\n     </g>\n    </g>\n    <g id=\"ytick_2\">\n     <g id=\"line2d_9\">\n      <g>\n       <use style=\"stroke:#000000;stroke-width:0.8;\" x=\"46.965625\" xlink:href=\"#m35a898c640\" y=\"379.737063\"/>\n      </g>\n     </g>\n     <g id=\"text_10\">\n      <!-- 40 -->\n      <g transform=\"translate(27.240625 383.536282)scale(0.1 -0.1)\">\n       <use xlink:href=\"#DejaVuSans-52\"/>\n       <use x=\"63.623047\" xlink:href=\"#DejaVuSans-48\"/>\n      </g>\n     </g>\n    </g>\n    <g id=\"ytick_3\">\n     <g id=\"line2d_10\">\n      <g>\n       <use style=\"stroke:#000000;stroke-width:0.8;\" x=\"46.965625\" xlink:href=\"#m35a898c640\" y=\"318.914685\"/>\n      </g>\n     </g>\n     <g id=\"text_11\">\n      <!-- 50 -->\n      <defs>\n       <path d=\"M 10.796875 72.90625 \nL 49.515625 72.90625 \nL 49.515625 64.59375 \nL 19.828125 64.59375 \nL 19.828125 46.734375 \nQ 21.96875 47.46875 24.109375 47.828125 \nQ 26.265625 48.1875 28.421875 48.1875 \nQ 40.625 48.1875 47.75 41.5 \nQ 54.890625 34.8125 54.890625 23.390625 \nQ 54.890625 11.625 47.5625 5.09375 \nQ 40.234375 -1.421875 26.90625 -1.421875 \nQ 22.3125 -1.421875 17.546875 -0.640625 \nQ 12.796875 0.140625 7.71875 1.703125 \nL 7.71875 11.625 \nQ 12.109375 9.234375 16.796875 8.0625 \nQ 21.484375 6.890625 26.703125 6.890625 \nQ 35.15625 6.890625 40.078125 11.328125 \nQ 45.015625 15.765625 45.015625 23.390625 \nQ 45.015625 31 40.078125 35.4375 \nQ 35.15625 39.890625 26.703125 39.890625 \nQ 22.75 39.890625 18.8125 39.015625 \nQ 14.890625 38.140625 10.796875 36.28125 \nz\n\" id=\"DejaVuSans-53\"/>\n      </defs>\n      <g transform=\"translate(27.240625 322.713904)scale(0.1 -0.1)\">\n       <use xlink:href=\"#DejaVuSans-53\"/>\n       <use x=\"63.623047\" xlink:href=\"#DejaVuSans-48\"/>\n      </g>\n     </g>\n    </g>\n    <g id=\"ytick_4\">\n     <g id=\"line2d_11\">\n      <g>\n       <use style=\"stroke:#000000;stroke-width:0.8;\" x=\"46.965625\" xlink:href=\"#m35a898c640\" y=\"258.092308\"/>\n      </g>\n     </g>\n     <g id=\"text_12\">\n      <!-- 60 -->\n      <g transform=\"translate(27.240625 261.891526)scale(0.1 -0.1)\">\n       <use xlink:href=\"#DejaVuSans-54\"/>\n       <use x=\"63.623047\" xlink:href=\"#DejaVuSans-48\"/>\n      </g>\n     </g>\n    </g>\n    <g id=\"ytick_5\">\n     <g id=\"line2d_12\">\n      <g>\n       <use style=\"stroke:#000000;stroke-width:0.8;\" x=\"46.965625\" xlink:href=\"#m35a898c640\" y=\"197.26993\"/>\n      </g>\n     </g>\n     <g id=\"text_13\">\n      <!-- 70 -->\n      <defs>\n       <path d=\"M 8.203125 72.90625 \nL 55.078125 72.90625 \nL 55.078125 68.703125 \nL 28.609375 0 \nL 18.3125 0 \nL 43.21875 64.59375 \nL 8.203125 64.59375 \nz\n\" id=\"DejaVuSans-55\"/>\n      </defs>\n      <g transform=\"translate(27.240625 201.069149)scale(0.1 -0.1)\">\n       <use xlink:href=\"#DejaVuSans-55\"/>\n       <use x=\"63.623047\" xlink:href=\"#DejaVuSans-48\"/>\n      </g>\n     </g>\n    </g>\n    <g id=\"ytick_6\">\n     <g id=\"line2d_13\">\n      <g>\n       <use style=\"stroke:#000000;stroke-width:0.8;\" x=\"46.965625\" xlink:href=\"#m35a898c640\" y=\"136.447552\"/>\n      </g>\n     </g>\n     <g id=\"text_14\">\n      <!-- 80 -->\n      <g transform=\"translate(27.240625 140.246771)scale(0.1 -0.1)\">\n       <use xlink:href=\"#DejaVuSans-56\"/>\n       <use x=\"63.623047\" xlink:href=\"#DejaVuSans-48\"/>\n      </g>\n     </g>\n    </g>\n    <g id=\"ytick_7\">\n     <g id=\"line2d_14\">\n      <g>\n       <use style=\"stroke:#000000;stroke-width:0.8;\" x=\"46.965625\" xlink:href=\"#m35a898c640\" y=\"75.625175\"/>\n      </g>\n     </g>\n     <g id=\"text_15\">\n      <!-- 90 -->\n      <defs>\n       <path d=\"M 10.984375 1.515625 \nL 10.984375 10.5 \nQ 14.703125 8.734375 18.5 7.8125 \nQ 22.3125 6.890625 25.984375 6.890625 \nQ 35.75 6.890625 40.890625 13.453125 \nQ 46.046875 20.015625 46.78125 33.40625 \nQ 43.953125 29.203125 39.59375 26.953125 \nQ 35.25 24.703125 29.984375 24.703125 \nQ 19.046875 24.703125 12.671875 31.3125 \nQ 6.296875 37.9375 6.296875 49.421875 \nQ 6.296875 60.640625 12.9375 67.421875 \nQ 19.578125 74.21875 30.609375 74.21875 \nQ 43.265625 74.21875 49.921875 64.515625 \nQ 56.59375 54.828125 56.59375 36.375 \nQ 56.59375 19.140625 48.40625 8.859375 \nQ 40.234375 -1.421875 26.421875 -1.421875 \nQ 22.703125 -1.421875 18.890625 -0.6875 \nQ 15.09375 0.046875 10.984375 1.515625 \nz\nM 30.609375 32.421875 \nQ 37.25 32.421875 41.125 36.953125 \nQ 45.015625 41.5 45.015625 49.421875 \nQ 45.015625 57.28125 41.125 61.84375 \nQ 37.25 66.40625 30.609375 66.40625 \nQ 23.96875 66.40625 20.09375 61.84375 \nQ 16.21875 57.28125 16.21875 49.421875 \nQ 16.21875 41.5 20.09375 36.953125 \nQ 23.96875 32.421875 30.609375 32.421875 \nz\n\" id=\"DejaVuSans-57\"/>\n      </defs>\n      <g transform=\"translate(27.240625 79.424394)scale(0.1 -0.1)\">\n       <use xlink:href=\"#DejaVuSans-57\"/>\n       <use x=\"63.623047\" xlink:href=\"#DejaVuSans-48\"/>\n      </g>\n     </g>\n    </g>\n    <g id=\"ytick_8\">\n     <g id=\"line2d_15\">\n      <g>\n       <use style=\"stroke:#000000;stroke-width:0.8;\" x=\"46.965625\" xlink:href=\"#m35a898c640\" y=\"14.802797\"/>\n      </g>\n     </g>\n     <g id=\"text_16\">\n      <!-- 100 -->\n      <g transform=\"translate(20.878125 18.602016)scale(0.1 -0.1)\">\n       <use xlink:href=\"#DejaVuSans-49\"/>\n       <use x=\"63.623047\" xlink:href=\"#DejaVuSans-48\"/>\n       <use x=\"127.246094\" xlink:href=\"#DejaVuSans-48\"/>\n      </g>\n     </g>\n    </g>\n    <g id=\"text_17\">\n     <!-- Accuracy -->\n     <defs>\n      <path d=\"M 34.1875 63.1875 \nL 20.796875 26.90625 \nL 47.609375 26.90625 \nz\nM 28.609375 72.90625 \nL 39.796875 72.90625 \nL 67.578125 0 \nL 57.328125 0 \nL 50.6875 18.703125 \nL 17.828125 18.703125 \nL 11.1875 0 \nL 0.78125 0 \nz\n\" id=\"DejaVuSans-65\"/>\n      <path d=\"M 48.78125 52.59375 \nL 48.78125 44.1875 \nQ 44.96875 46.296875 41.140625 47.34375 \nQ 37.3125 48.390625 33.40625 48.390625 \nQ 24.65625 48.390625 19.8125 42.84375 \nQ 14.984375 37.3125 14.984375 27.296875 \nQ 14.984375 17.28125 19.8125 11.734375 \nQ 24.65625 6.203125 33.40625 6.203125 \nQ 37.3125 6.203125 41.140625 7.25 \nQ 44.96875 8.296875 48.78125 10.40625 \nL 48.78125 2.09375 \nQ 45.015625 0.34375 40.984375 -0.53125 \nQ 36.96875 -1.421875 32.421875 -1.421875 \nQ 20.0625 -1.421875 12.78125 6.34375 \nQ 5.515625 14.109375 5.515625 27.296875 \nQ 5.515625 40.671875 12.859375 48.328125 \nQ 20.21875 56 33.015625 56 \nQ 37.15625 56 41.109375 55.140625 \nQ 45.0625 54.296875 48.78125 52.59375 \nz\n\" id=\"DejaVuSans-99\"/>\n      <path d=\"M 34.28125 27.484375 \nQ 23.390625 27.484375 19.1875 25 \nQ 14.984375 22.515625 14.984375 16.5 \nQ 14.984375 11.71875 18.140625 8.90625 \nQ 21.296875 6.109375 26.703125 6.109375 \nQ 34.1875 6.109375 38.703125 11.40625 \nQ 43.21875 16.703125 43.21875 25.484375 \nL 43.21875 27.484375 \nz\nM 52.203125 31.203125 \nL 52.203125 0 \nL 43.21875 0 \nL 43.21875 8.296875 \nQ 40.140625 3.328125 35.546875 0.953125 \nQ 30.953125 -1.421875 24.3125 -1.421875 \nQ 15.921875 -1.421875 10.953125 3.296875 \nQ 6 8.015625 6 15.921875 \nQ 6 25.140625 12.171875 29.828125 \nQ 18.359375 34.515625 30.609375 34.515625 \nL 43.21875 34.515625 \nL 43.21875 35.40625 \nQ 43.21875 41.609375 39.140625 45 \nQ 35.0625 48.390625 27.6875 48.390625 \nQ 23 48.390625 18.546875 47.265625 \nQ 14.109375 46.140625 10.015625 43.890625 \nL 10.015625 52.203125 \nQ 14.9375 54.109375 19.578125 55.046875 \nQ 24.21875 56 28.609375 56 \nQ 40.484375 56 46.34375 49.84375 \nQ 52.203125 43.703125 52.203125 31.203125 \nz\n\" id=\"DejaVuSans-97\"/>\n      <path d=\"M 32.171875 -5.078125 \nQ 28.375 -14.84375 24.75 -17.8125 \nQ 21.140625 -20.796875 15.09375 -20.796875 \nL 7.90625 -20.796875 \nL 7.90625 -13.28125 \nL 13.1875 -13.28125 \nQ 16.890625 -13.28125 18.9375 -11.515625 \nQ 21 -9.765625 23.484375 -3.21875 \nL 25.09375 0.875 \nL 2.984375 54.6875 \nL 12.5 54.6875 \nL 29.59375 11.921875 \nL 46.6875 54.6875 \nL 56.203125 54.6875 \nz\n\" id=\"DejaVuSans-121\"/>\n     </defs>\n     <g transform=\"translate(14.798438 247.468125)rotate(-90)scale(0.1 -0.1)\">\n      <use xlink:href=\"#DejaVuSans-65\"/>\n      <use x=\"66.658203\" xlink:href=\"#DejaVuSans-99\"/>\n      <use x=\"121.638672\" xlink:href=\"#DejaVuSans-99\"/>\n      <use x=\"176.619141\" xlink:href=\"#DejaVuSans-117\"/>\n      <use x=\"239.998047\" xlink:href=\"#DejaVuSans-114\"/>\n      <use x=\"281.111328\" xlink:href=\"#DejaVuSans-97\"/>\n      <use x=\"342.390625\" xlink:href=\"#DejaVuSans-99\"/>\n      <use x=\"397.371094\" xlink:href=\"#DejaVuSans-121\"/>\n     </g>\n    </g>\n   </g>\n   <g id=\"line2d_16\">\n    <path clip-path=\"url(#pa1e21f4e14)\" d=\"M 82.474716 420.285299 \nL 88.023011 420.285299 \nL 93.571307 217.544025 \nL 99.119602 217.544025 \nL 104.667898 420.285299 \nL 110.216193 39.131748 \nL 115.764489 221.598881 \nL 121.312784 144.557172 \nL 126.86108 116.173458 \nL 132.409375 99.954126 \nL 137.95767 241.872999 \nL 143.505966 144.557172 \nL 149.054261 95.899316 \nL 154.602557 193.21512 \nL 160.150852 124.283077 \nL 165.699148 132.392743 \nL 171.247443 83.734841 \nL 176.795739 164.831313 \nL 187.89233 59.40589 \nL 193.440625 152.666884 \nL 198.98892 59.40589 \nL 204.537216 43.186604 \nL 210.085511 51.296224 \nL 215.633807 39.131748 \nL 226.730398 63.460699 \nL 232.278693 55.351033 \nL 237.826989 95.899316 \nL 243.375284 47.241414 \nL 248.92358 91.84446 \nL 254.471875 47.241414 \nL 260.02017 31.022082 \nL 265.568466 35.076939 \nL 271.116761 47.241414 \nL 276.665057 31.022082 \nL 282.213352 35.076939 \nL 287.761648 35.076939 \nL 293.309943 79.680031 \nL 298.858239 39.131748 \nL 304.406534 59.40589 \nL 309.95483 35.076939 \nL 321.05142 35.076939 \nL 326.599716 43.186604 \nL 337.696307 35.076939 \nL 343.244602 35.076939 \nL 348.792898 51.296224 \nL 354.341193 31.022082 \nL 365.437784 47.241414 \nL 370.98608 31.022082 \nL 376.534375 67.515509 \nL 382.08267 59.40589 \nL 387.630966 31.022082 \nL 393.179261 35.076939 \nL 398.727557 35.076939 \nL 404.275852 47.241414 \nL 409.824148 31.022082 \nL 420.920739 39.131748 \nL 426.469034 31.022082 \nL 432.01733 35.076939 \nL 437.565625 26.967273 \nL 448.662216 35.076939 \nL 465.307102 35.076939 \nL 470.855398 31.022082 \nL 476.403693 35.076939 \nL 487.500284 26.967273 \nL 493.04858 31.022082 \nL 498.596875 39.131748 \nL 504.14517 31.022082 \nL 526.338352 31.022082 \nL 531.886648 35.076939 \nL 537.434943 31.022082 \nL 542.983239 31.022082 \nL 548.531534 39.131748 \nL 554.07983 31.022082 \nL 559.628125 35.076939 \nL 565.17642 31.022082 \nL 570.724716 31.022082 \nL 576.273011 35.076939 \nL 581.821307 35.076939 \nL 587.369602 26.967273 \nL 592.917898 35.076939 \nL 598.466193 35.076939 \nL 609.562784 26.967273 \nL 615.11108 31.022082 \nL 620.659375 31.022082 \nL 626.20767 26.967273 \nL 631.755966 31.022082 \nL 637.304261 31.022082 \nL 642.852557 26.967273 \nL 648.400852 35.076939 \nL 653.949148 31.022082 \nL 659.497443 31.022082 \nL 665.045739 35.076939 \nL 676.14233 26.967273 \nL 681.690625 31.022082 \nL 698.335511 31.022082 \nL 703.883807 26.967273 \nL 709.432102 31.022082 \nL 714.980398 148.612028 \nL 720.528693 26.967273 \nL 726.076989 26.967273 \nL 731.625284 31.022082 \nL 737.17358 31.022082 \nL 742.721875 132.392743 \nL 748.27017 31.022082 \nL 753.818466 35.076939 \nL 764.915057 35.076939 \nL 776.011648 26.967273 \nL 781.559943 26.967273 \nL 787.108239 31.022082 \nL 787.108239 31.022082 \n\" style=\"fill:none;stroke:#000000;stroke-linecap:square;stroke-width:1.5;\"/>\n    <defs>\n     <path d=\"M 0 4.5 \nC 1.193414 4.5 2.338109 4.025852 3.181981 3.181981 \nC 4.025852 2.338109 4.5 1.193414 4.5 0 \nC 4.5 -1.193414 4.025852 -2.338109 3.181981 -3.181981 \nC 2.338109 -4.025852 1.193414 -4.5 0 -4.5 \nC -1.193414 -4.5 -2.338109 -4.025852 -3.181981 -3.181981 \nC -4.025852 -2.338109 -4.5 -1.193414 -4.5 0 \nC -4.5 1.193414 -4.025852 2.338109 -3.181981 3.181981 \nC -2.338109 4.025852 -1.193414 4.5 0 4.5 \nz\n\" id=\"m508eb7b25e\" style=\"stroke:#000000;\"/>\n    </defs>\n    <g clip-path=\"url(#pa1e21f4e14)\">\n     <use style=\"fill:#ffffff;stroke:#000000;\" x=\"82.474716\" xlink:href=\"#m508eb7b25e\" y=\"420.285299\"/>\n     <use style=\"fill:#ffffff;stroke:#000000;\" x=\"88.023011\" xlink:href=\"#m508eb7b25e\" y=\"420.285299\"/>\n     <use style=\"fill:#ffffff;stroke:#000000;\" x=\"93.571307\" xlink:href=\"#m508eb7b25e\" y=\"217.544025\"/>\n     <use style=\"fill:#ffffff;stroke:#000000;\" x=\"99.119602\" xlink:href=\"#m508eb7b25e\" y=\"217.544025\"/>\n     <use style=\"fill:#ffffff;stroke:#000000;\" x=\"104.667898\" xlink:href=\"#m508eb7b25e\" y=\"420.285299\"/>\n     <use style=\"fill:#ffffff;stroke:#000000;\" x=\"110.216193\" xlink:href=\"#m508eb7b25e\" y=\"39.131748\"/>\n     <use style=\"fill:#ffffff;stroke:#000000;\" x=\"115.764489\" xlink:href=\"#m508eb7b25e\" y=\"221.598881\"/>\n     <use style=\"fill:#ffffff;stroke:#000000;\" x=\"121.312784\" xlink:href=\"#m508eb7b25e\" y=\"144.557172\"/>\n     <use style=\"fill:#ffffff;stroke:#000000;\" x=\"126.86108\" xlink:href=\"#m508eb7b25e\" y=\"116.173458\"/>\n     <use style=\"fill:#ffffff;stroke:#000000;\" x=\"132.409375\" xlink:href=\"#m508eb7b25e\" y=\"99.954126\"/>\n     <use style=\"fill:#ffffff;stroke:#000000;\" x=\"137.95767\" xlink:href=\"#m508eb7b25e\" y=\"241.872999\"/>\n     <use style=\"fill:#ffffff;stroke:#000000;\" x=\"143.505966\" xlink:href=\"#m508eb7b25e\" y=\"144.557172\"/>\n     <use style=\"fill:#ffffff;stroke:#000000;\" x=\"149.054261\" xlink:href=\"#m508eb7b25e\" y=\"95.899316\"/>\n     <use style=\"fill:#ffffff;stroke:#000000;\" x=\"154.602557\" xlink:href=\"#m508eb7b25e\" y=\"193.21512\"/>\n     <use style=\"fill:#ffffff;stroke:#000000;\" x=\"160.150852\" xlink:href=\"#m508eb7b25e\" y=\"124.283077\"/>\n     <use style=\"fill:#ffffff;stroke:#000000;\" x=\"165.699148\" xlink:href=\"#m508eb7b25e\" y=\"132.392743\"/>\n     <use style=\"fill:#ffffff;stroke:#000000;\" x=\"171.247443\" xlink:href=\"#m508eb7b25e\" y=\"83.734841\"/>\n     <use style=\"fill:#ffffff;stroke:#000000;\" x=\"176.795739\" xlink:href=\"#m508eb7b25e\" y=\"164.831313\"/>\n     <use style=\"fill:#ffffff;stroke:#000000;\" x=\"182.344034\" xlink:href=\"#m508eb7b25e\" y=\"112.118601\"/>\n     <use style=\"fill:#ffffff;stroke:#000000;\" x=\"187.89233\" xlink:href=\"#m508eb7b25e\" y=\"59.40589\"/>\n     <use style=\"fill:#ffffff;stroke:#000000;\" x=\"193.440625\" xlink:href=\"#m508eb7b25e\" y=\"152.666884\"/>\n     <use style=\"fill:#ffffff;stroke:#000000;\" x=\"198.98892\" xlink:href=\"#m508eb7b25e\" y=\"59.40589\"/>\n     <use style=\"fill:#ffffff;stroke:#000000;\" x=\"204.537216\" xlink:href=\"#m508eb7b25e\" y=\"43.186604\"/>\n     <use style=\"fill:#ffffff;stroke:#000000;\" x=\"210.085511\" xlink:href=\"#m508eb7b25e\" y=\"51.296224\"/>\n     <use style=\"fill:#ffffff;stroke:#000000;\" x=\"215.633807\" xlink:href=\"#m508eb7b25e\" y=\"39.131748\"/>\n     <use style=\"fill:#ffffff;stroke:#000000;\" x=\"221.182102\" xlink:href=\"#m508eb7b25e\" y=\"51.296224\"/>\n     <use style=\"fill:#ffffff;stroke:#000000;\" x=\"226.730398\" xlink:href=\"#m508eb7b25e\" y=\"63.460699\"/>\n     <use style=\"fill:#ffffff;stroke:#000000;\" x=\"232.278693\" xlink:href=\"#m508eb7b25e\" y=\"55.351033\"/>\n     <use style=\"fill:#ffffff;stroke:#000000;\" x=\"237.826989\" xlink:href=\"#m508eb7b25e\" y=\"95.899316\"/>\n     <use style=\"fill:#ffffff;stroke:#000000;\" x=\"243.375284\" xlink:href=\"#m508eb7b25e\" y=\"47.241414\"/>\n     <use style=\"fill:#ffffff;stroke:#000000;\" x=\"248.92358\" xlink:href=\"#m508eb7b25e\" y=\"91.84446\"/>\n     <use style=\"fill:#ffffff;stroke:#000000;\" x=\"254.471875\" xlink:href=\"#m508eb7b25e\" y=\"47.241414\"/>\n     <use style=\"fill:#ffffff;stroke:#000000;\" x=\"260.02017\" xlink:href=\"#m508eb7b25e\" y=\"31.022082\"/>\n     <use style=\"fill:#ffffff;stroke:#000000;\" x=\"265.568466\" xlink:href=\"#m508eb7b25e\" y=\"35.076939\"/>\n     <use style=\"fill:#ffffff;stroke:#000000;\" x=\"271.116761\" xlink:href=\"#m508eb7b25e\" y=\"47.241414\"/>\n     <use style=\"fill:#ffffff;stroke:#000000;\" x=\"276.665057\" xlink:href=\"#m508eb7b25e\" y=\"31.022082\"/>\n     <use style=\"fill:#ffffff;stroke:#000000;\" x=\"282.213352\" xlink:href=\"#m508eb7b25e\" y=\"35.076939\"/>\n     <use style=\"fill:#ffffff;stroke:#000000;\" x=\"287.761648\" xlink:href=\"#m508eb7b25e\" y=\"35.076939\"/>\n     <use style=\"fill:#ffffff;stroke:#000000;\" x=\"293.309943\" xlink:href=\"#m508eb7b25e\" y=\"79.680031\"/>\n     <use style=\"fill:#ffffff;stroke:#000000;\" x=\"298.858239\" xlink:href=\"#m508eb7b25e\" y=\"39.131748\"/>\n     <use style=\"fill:#ffffff;stroke:#000000;\" x=\"304.406534\" xlink:href=\"#m508eb7b25e\" y=\"59.40589\"/>\n     <use style=\"fill:#ffffff;stroke:#000000;\" x=\"309.95483\" xlink:href=\"#m508eb7b25e\" y=\"35.076939\"/>\n     <use style=\"fill:#ffffff;stroke:#000000;\" x=\"315.503125\" xlink:href=\"#m508eb7b25e\" y=\"35.076939\"/>\n     <use style=\"fill:#ffffff;stroke:#000000;\" x=\"321.05142\" xlink:href=\"#m508eb7b25e\" y=\"35.076939\"/>\n     <use style=\"fill:#ffffff;stroke:#000000;\" x=\"326.599716\" xlink:href=\"#m508eb7b25e\" y=\"43.186604\"/>\n     <use style=\"fill:#ffffff;stroke:#000000;\" x=\"332.148011\" xlink:href=\"#m508eb7b25e\" y=\"39.131748\"/>\n     <use style=\"fill:#ffffff;stroke:#000000;\" x=\"337.696307\" xlink:href=\"#m508eb7b25e\" y=\"35.076939\"/>\n     <use style=\"fill:#ffffff;stroke:#000000;\" x=\"343.244602\" xlink:href=\"#m508eb7b25e\" y=\"35.076939\"/>\n     <use style=\"fill:#ffffff;stroke:#000000;\" x=\"348.792898\" xlink:href=\"#m508eb7b25e\" y=\"51.296224\"/>\n     <use style=\"fill:#ffffff;stroke:#000000;\" x=\"354.341193\" xlink:href=\"#m508eb7b25e\" y=\"31.022082\"/>\n     <use style=\"fill:#ffffff;stroke:#000000;\" x=\"359.889489\" xlink:href=\"#m508eb7b25e\" y=\"39.131748\"/>\n     <use style=\"fill:#ffffff;stroke:#000000;\" x=\"365.437784\" xlink:href=\"#m508eb7b25e\" y=\"47.241414\"/>\n     <use style=\"fill:#ffffff;stroke:#000000;\" x=\"370.98608\" xlink:href=\"#m508eb7b25e\" y=\"31.022082\"/>\n     <use style=\"fill:#ffffff;stroke:#000000;\" x=\"376.534375\" xlink:href=\"#m508eb7b25e\" y=\"67.515509\"/>\n     <use style=\"fill:#ffffff;stroke:#000000;\" x=\"382.08267\" xlink:href=\"#m508eb7b25e\" y=\"59.40589\"/>\n     <use style=\"fill:#ffffff;stroke:#000000;\" x=\"387.630966\" xlink:href=\"#m508eb7b25e\" y=\"31.022082\"/>\n     <use style=\"fill:#ffffff;stroke:#000000;\" x=\"393.179261\" xlink:href=\"#m508eb7b25e\" y=\"35.076939\"/>\n     <use style=\"fill:#ffffff;stroke:#000000;\" x=\"398.727557\" xlink:href=\"#m508eb7b25e\" y=\"35.076939\"/>\n     <use style=\"fill:#ffffff;stroke:#000000;\" x=\"404.275852\" xlink:href=\"#m508eb7b25e\" y=\"47.241414\"/>\n     <use style=\"fill:#ffffff;stroke:#000000;\" x=\"409.824148\" xlink:href=\"#m508eb7b25e\" y=\"31.022082\"/>\n     <use style=\"fill:#ffffff;stroke:#000000;\" x=\"415.372443\" xlink:href=\"#m508eb7b25e\" y=\"35.076939\"/>\n     <use style=\"fill:#ffffff;stroke:#000000;\" x=\"420.920739\" xlink:href=\"#m508eb7b25e\" y=\"39.131748\"/>\n     <use style=\"fill:#ffffff;stroke:#000000;\" x=\"426.469034\" xlink:href=\"#m508eb7b25e\" y=\"31.022082\"/>\n     <use style=\"fill:#ffffff;stroke:#000000;\" x=\"432.01733\" xlink:href=\"#m508eb7b25e\" y=\"35.076939\"/>\n     <use style=\"fill:#ffffff;stroke:#000000;\" x=\"437.565625\" xlink:href=\"#m508eb7b25e\" y=\"26.967273\"/>\n     <use style=\"fill:#ffffff;stroke:#000000;\" x=\"443.11392\" xlink:href=\"#m508eb7b25e\" y=\"31.022082\"/>\n     <use style=\"fill:#ffffff;stroke:#000000;\" x=\"448.662216\" xlink:href=\"#m508eb7b25e\" y=\"35.076939\"/>\n     <use style=\"fill:#ffffff;stroke:#000000;\" x=\"454.210511\" xlink:href=\"#m508eb7b25e\" y=\"35.076939\"/>\n     <use style=\"fill:#ffffff;stroke:#000000;\" x=\"459.758807\" xlink:href=\"#m508eb7b25e\" y=\"35.076939\"/>\n     <use style=\"fill:#ffffff;stroke:#000000;\" x=\"465.307102\" xlink:href=\"#m508eb7b25e\" y=\"35.076939\"/>\n     <use style=\"fill:#ffffff;stroke:#000000;\" x=\"470.855398\" xlink:href=\"#m508eb7b25e\" y=\"31.022082\"/>\n     <use style=\"fill:#ffffff;stroke:#000000;\" x=\"476.403693\" xlink:href=\"#m508eb7b25e\" y=\"35.076939\"/>\n     <use style=\"fill:#ffffff;stroke:#000000;\" x=\"481.951989\" xlink:href=\"#m508eb7b25e\" y=\"31.022082\"/>\n     <use style=\"fill:#ffffff;stroke:#000000;\" x=\"487.500284\" xlink:href=\"#m508eb7b25e\" y=\"26.967273\"/>\n     <use style=\"fill:#ffffff;stroke:#000000;\" x=\"493.04858\" xlink:href=\"#m508eb7b25e\" y=\"31.022082\"/>\n     <use style=\"fill:#ffffff;stroke:#000000;\" x=\"498.596875\" xlink:href=\"#m508eb7b25e\" y=\"39.131748\"/>\n     <use style=\"fill:#ffffff;stroke:#000000;\" x=\"504.14517\" xlink:href=\"#m508eb7b25e\" y=\"31.022082\"/>\n     <use style=\"fill:#ffffff;stroke:#000000;\" x=\"509.693466\" xlink:href=\"#m508eb7b25e\" y=\"31.022082\"/>\n     <use style=\"fill:#ffffff;stroke:#000000;\" x=\"515.241761\" xlink:href=\"#m508eb7b25e\" y=\"31.022082\"/>\n     <use style=\"fill:#ffffff;stroke:#000000;\" x=\"520.790057\" xlink:href=\"#m508eb7b25e\" y=\"31.022082\"/>\n     <use style=\"fill:#ffffff;stroke:#000000;\" x=\"526.338352\" xlink:href=\"#m508eb7b25e\" y=\"31.022082\"/>\n     <use style=\"fill:#ffffff;stroke:#000000;\" x=\"531.886648\" xlink:href=\"#m508eb7b25e\" y=\"35.076939\"/>\n     <use style=\"fill:#ffffff;stroke:#000000;\" x=\"537.434943\" xlink:href=\"#m508eb7b25e\" y=\"31.022082\"/>\n     <use style=\"fill:#ffffff;stroke:#000000;\" x=\"542.983239\" xlink:href=\"#m508eb7b25e\" y=\"31.022082\"/>\n     <use style=\"fill:#ffffff;stroke:#000000;\" x=\"548.531534\" xlink:href=\"#m508eb7b25e\" y=\"39.131748\"/>\n     <use style=\"fill:#ffffff;stroke:#000000;\" x=\"554.07983\" xlink:href=\"#m508eb7b25e\" y=\"31.022082\"/>\n     <use style=\"fill:#ffffff;stroke:#000000;\" x=\"559.628125\" xlink:href=\"#m508eb7b25e\" y=\"35.076939\"/>\n     <use style=\"fill:#ffffff;stroke:#000000;\" x=\"565.17642\" xlink:href=\"#m508eb7b25e\" y=\"31.022082\"/>\n     <use style=\"fill:#ffffff;stroke:#000000;\" x=\"570.724716\" xlink:href=\"#m508eb7b25e\" y=\"31.022082\"/>\n     <use style=\"fill:#ffffff;stroke:#000000;\" x=\"576.273011\" xlink:href=\"#m508eb7b25e\" y=\"35.076939\"/>\n     <use style=\"fill:#ffffff;stroke:#000000;\" x=\"581.821307\" xlink:href=\"#m508eb7b25e\" y=\"35.076939\"/>\n     <use style=\"fill:#ffffff;stroke:#000000;\" x=\"587.369602\" xlink:href=\"#m508eb7b25e\" y=\"26.967273\"/>\n     <use style=\"fill:#ffffff;stroke:#000000;\" x=\"592.917898\" xlink:href=\"#m508eb7b25e\" y=\"35.076939\"/>\n     <use style=\"fill:#ffffff;stroke:#000000;\" x=\"598.466193\" xlink:href=\"#m508eb7b25e\" y=\"35.076939\"/>\n     <use style=\"fill:#ffffff;stroke:#000000;\" x=\"604.014489\" xlink:href=\"#m508eb7b25e\" y=\"31.022082\"/>\n     <use style=\"fill:#ffffff;stroke:#000000;\" x=\"609.562784\" xlink:href=\"#m508eb7b25e\" y=\"26.967273\"/>\n     <use style=\"fill:#ffffff;stroke:#000000;\" x=\"615.11108\" xlink:href=\"#m508eb7b25e\" y=\"31.022082\"/>\n     <use style=\"fill:#ffffff;stroke:#000000;\" x=\"620.659375\" xlink:href=\"#m508eb7b25e\" y=\"31.022082\"/>\n     <use style=\"fill:#ffffff;stroke:#000000;\" x=\"626.20767\" xlink:href=\"#m508eb7b25e\" y=\"26.967273\"/>\n     <use style=\"fill:#ffffff;stroke:#000000;\" x=\"631.755966\" xlink:href=\"#m508eb7b25e\" y=\"31.022082\"/>\n     <use style=\"fill:#ffffff;stroke:#000000;\" x=\"637.304261\" xlink:href=\"#m508eb7b25e\" y=\"31.022082\"/>\n     <use style=\"fill:#ffffff;stroke:#000000;\" x=\"642.852557\" xlink:href=\"#m508eb7b25e\" y=\"26.967273\"/>\n     <use style=\"fill:#ffffff;stroke:#000000;\" x=\"648.400852\" xlink:href=\"#m508eb7b25e\" y=\"35.076939\"/>\n     <use style=\"fill:#ffffff;stroke:#000000;\" x=\"653.949148\" xlink:href=\"#m508eb7b25e\" y=\"31.022082\"/>\n     <use style=\"fill:#ffffff;stroke:#000000;\" x=\"659.497443\" xlink:href=\"#m508eb7b25e\" y=\"31.022082\"/>\n     <use style=\"fill:#ffffff;stroke:#000000;\" x=\"665.045739\" xlink:href=\"#m508eb7b25e\" y=\"35.076939\"/>\n     <use style=\"fill:#ffffff;stroke:#000000;\" x=\"670.594034\" xlink:href=\"#m508eb7b25e\" y=\"31.022082\"/>\n     <use style=\"fill:#ffffff;stroke:#000000;\" x=\"676.14233\" xlink:href=\"#m508eb7b25e\" y=\"26.967273\"/>\n     <use style=\"fill:#ffffff;stroke:#000000;\" x=\"681.690625\" xlink:href=\"#m508eb7b25e\" y=\"31.022082\"/>\n     <use style=\"fill:#ffffff;stroke:#000000;\" x=\"687.23892\" xlink:href=\"#m508eb7b25e\" y=\"31.022082\"/>\n     <use style=\"fill:#ffffff;stroke:#000000;\" x=\"692.787216\" xlink:href=\"#m508eb7b25e\" y=\"31.022082\"/>\n     <use style=\"fill:#ffffff;stroke:#000000;\" x=\"698.335511\" xlink:href=\"#m508eb7b25e\" y=\"31.022082\"/>\n     <use style=\"fill:#ffffff;stroke:#000000;\" x=\"703.883807\" xlink:href=\"#m508eb7b25e\" y=\"26.967273\"/>\n     <use style=\"fill:#ffffff;stroke:#000000;\" x=\"709.432102\" xlink:href=\"#m508eb7b25e\" y=\"31.022082\"/>\n     <use style=\"fill:#ffffff;stroke:#000000;\" x=\"714.980398\" xlink:href=\"#m508eb7b25e\" y=\"148.612028\"/>\n     <use style=\"fill:#ffffff;stroke:#000000;\" x=\"720.528693\" xlink:href=\"#m508eb7b25e\" y=\"26.967273\"/>\n     <use style=\"fill:#ffffff;stroke:#000000;\" x=\"726.076989\" xlink:href=\"#m508eb7b25e\" y=\"26.967273\"/>\n     <use style=\"fill:#ffffff;stroke:#000000;\" x=\"731.625284\" xlink:href=\"#m508eb7b25e\" y=\"31.022082\"/>\n     <use style=\"fill:#ffffff;stroke:#000000;\" x=\"737.17358\" xlink:href=\"#m508eb7b25e\" y=\"31.022082\"/>\n     <use style=\"fill:#ffffff;stroke:#000000;\" x=\"742.721875\" xlink:href=\"#m508eb7b25e\" y=\"132.392743\"/>\n     <use style=\"fill:#ffffff;stroke:#000000;\" x=\"748.27017\" xlink:href=\"#m508eb7b25e\" y=\"31.022082\"/>\n     <use style=\"fill:#ffffff;stroke:#000000;\" x=\"753.818466\" xlink:href=\"#m508eb7b25e\" y=\"35.076939\"/>\n     <use style=\"fill:#ffffff;stroke:#000000;\" x=\"759.366761\" xlink:href=\"#m508eb7b25e\" y=\"35.076939\"/>\n     <use style=\"fill:#ffffff;stroke:#000000;\" x=\"764.915057\" xlink:href=\"#m508eb7b25e\" y=\"35.076939\"/>\n     <use style=\"fill:#ffffff;stroke:#000000;\" x=\"770.463352\" xlink:href=\"#m508eb7b25e\" y=\"31.022082\"/>\n     <use style=\"fill:#ffffff;stroke:#000000;\" x=\"776.011648\" xlink:href=\"#m508eb7b25e\" y=\"26.967273\"/>\n     <use style=\"fill:#ffffff;stroke:#000000;\" x=\"781.559943\" xlink:href=\"#m508eb7b25e\" y=\"26.967273\"/>\n     <use style=\"fill:#ffffff;stroke:#000000;\" x=\"787.108239\" xlink:href=\"#m508eb7b25e\" y=\"31.022082\"/>\n    </g>\n   </g>\n   <g id=\"line2d_17\">\n    <path clip-path=\"url(#pa1e21f4e14)\" d=\"M 88.023011 422.312727 \nL 792.656534 422.312727 \n\" style=\"fill:none;stroke:#cccccc;stroke-dasharray:5.55,2.4;stroke-dashoffset:0;stroke-width:1.5;\"/>\n   </g>\n   <g id=\"line2d_18\">\n    <path clip-path=\"url(#pa1e21f4e14)\" d=\"M 88.023011 215.516643 \nL 792.656534 215.516643 \n\" style=\"fill:none;stroke:#cccccc;stroke-dasharray:5.55,2.4;stroke-dashoffset:0;stroke-width:1.5;\"/>\n   </g>\n   <g id=\"patch_3\">\n    <path d=\"M 46.965625 442.08 \nL 46.965625 7.2 \n\" style=\"fill:none;stroke:#000000;stroke-linecap:square;stroke-linejoin:miter;stroke-width:0.8;\"/>\n   </g>\n   <g id=\"patch_4\">\n    <path d=\"M 828.165625 442.08 \nL 828.165625 7.2 \n\" style=\"fill:none;stroke:#000000;stroke-linecap:square;stroke-linejoin:miter;stroke-width:0.8;\"/>\n   </g>\n   <g id=\"patch_5\">\n    <path d=\"M 46.965625 442.08 \nL 828.165625 442.08 \n\" style=\"fill:none;stroke:#000000;stroke-linecap:square;stroke-linejoin:miter;stroke-width:0.8;\"/>\n   </g>\n   <g id=\"patch_6\">\n    <path d=\"M 46.965625 7.2 \nL 828.165625 7.2 \n\" style=\"fill:none;stroke:#000000;stroke-linecap:square;stroke-linejoin:miter;stroke-width:0.8;\"/>\n   </g>\n  </g>\n </g>\n <defs>\n  <clipPath id=\"pa1e21f4e14\">\n   <rect height=\"434.88\" width=\"781.2\" x=\"46.965625\" y=\"7.2\"/>\n  </clipPath>\n </defs>\n</svg>\n"
          },
          "metadata": {
            "needs_background": "light"
          }
        }
      ]
    }
  ]
}