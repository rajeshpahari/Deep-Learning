{
  "nbformat": 4,
  "nbformat_minor": 0,
  "metadata": {
    "colab": {
      "provenance": [],
      "authorship_tag": "ABX9TyNNvkpToWwIzYFTYDyzanXb",
      "include_colab_link": true
    },
    "kernelspec": {
      "name": "python3",
      "display_name": "Python 3"
    },
    "language_info": {
      "name": "python"
    }
  },
  "cells": [
    {
      "cell_type": "markdown",
      "metadata": {
        "id": "view-in-github",
        "colab_type": "text"
      },
      "source": [
        "<a href=\"https://colab.research.google.com/github/rajeshpahari/Deep-Learning/blob/main/Pytorch_Cross_Validations.ipynb\" target=\"_parent\"><img src=\"https://colab.research.google.com/assets/colab-badge.svg\" alt=\"Open In Colab\"/></a>"
      ]
    },
    {
      "cell_type": "code",
      "execution_count": 1,
      "metadata": {
        "id": "-g292mrKx3zP"
      },
      "outputs": [],
      "source": [
        "#import Libraries\n",
        "import numpy as np\n",
        "import torch\n",
        "import torch.nn as nn\n",
        "import seaborn as sns"
      ]
    },
    {
      "cell_type": "code",
      "source": [
        "iris=sns.load_dataset('iris')\n",
        "iris.head()"
      ],
      "metadata": {
        "colab": {
          "base_uri": "https://localhost:8080/",
          "height": 206
        },
        "id": "I94Is9fJB3Ar",
        "outputId": "6ca0c41d-cadc-463a-dcc5-956982070890"
      },
      "execution_count": 2,
      "outputs": [
        {
          "output_type": "execute_result",
          "data": {
            "text/plain": [
              "   sepal_length  sepal_width  petal_length  petal_width species\n",
              "0           5.1          3.5           1.4          0.2  setosa\n",
              "1           4.9          3.0           1.4          0.2  setosa\n",
              "2           4.7          3.2           1.3          0.2  setosa\n",
              "3           4.6          3.1           1.5          0.2  setosa\n",
              "4           5.0          3.6           1.4          0.2  setosa"
            ],
            "text/html": [
              "\n",
              "  <div id=\"df-a20a7aab-7ae8-4f27-b52f-420c196df129\">\n",
              "    <div class=\"colab-df-container\">\n",
              "      <div>\n",
              "<style scoped>\n",
              "    .dataframe tbody tr th:only-of-type {\n",
              "        vertical-align: middle;\n",
              "    }\n",
              "\n",
              "    .dataframe tbody tr th {\n",
              "        vertical-align: top;\n",
              "    }\n",
              "\n",
              "    .dataframe thead th {\n",
              "        text-align: right;\n",
              "    }\n",
              "</style>\n",
              "<table border=\"1\" class=\"dataframe\">\n",
              "  <thead>\n",
              "    <tr style=\"text-align: right;\">\n",
              "      <th></th>\n",
              "      <th>sepal_length</th>\n",
              "      <th>sepal_width</th>\n",
              "      <th>petal_length</th>\n",
              "      <th>petal_width</th>\n",
              "      <th>species</th>\n",
              "    </tr>\n",
              "  </thead>\n",
              "  <tbody>\n",
              "    <tr>\n",
              "      <th>0</th>\n",
              "      <td>5.1</td>\n",
              "      <td>3.5</td>\n",
              "      <td>1.4</td>\n",
              "      <td>0.2</td>\n",
              "      <td>setosa</td>\n",
              "    </tr>\n",
              "    <tr>\n",
              "      <th>1</th>\n",
              "      <td>4.9</td>\n",
              "      <td>3.0</td>\n",
              "      <td>1.4</td>\n",
              "      <td>0.2</td>\n",
              "      <td>setosa</td>\n",
              "    </tr>\n",
              "    <tr>\n",
              "      <th>2</th>\n",
              "      <td>4.7</td>\n",
              "      <td>3.2</td>\n",
              "      <td>1.3</td>\n",
              "      <td>0.2</td>\n",
              "      <td>setosa</td>\n",
              "    </tr>\n",
              "    <tr>\n",
              "      <th>3</th>\n",
              "      <td>4.6</td>\n",
              "      <td>3.1</td>\n",
              "      <td>1.5</td>\n",
              "      <td>0.2</td>\n",
              "      <td>setosa</td>\n",
              "    </tr>\n",
              "    <tr>\n",
              "      <th>4</th>\n",
              "      <td>5.0</td>\n",
              "      <td>3.6</td>\n",
              "      <td>1.4</td>\n",
              "      <td>0.2</td>\n",
              "      <td>setosa</td>\n",
              "    </tr>\n",
              "  </tbody>\n",
              "</table>\n",
              "</div>\n",
              "      <button class=\"colab-df-convert\" onclick=\"convertToInteractive('df-a20a7aab-7ae8-4f27-b52f-420c196df129')\"\n",
              "              title=\"Convert this dataframe to an interactive table.\"\n",
              "              style=\"display:none;\">\n",
              "        \n",
              "  <svg xmlns=\"http://www.w3.org/2000/svg\" height=\"24px\"viewBox=\"0 0 24 24\"\n",
              "       width=\"24px\">\n",
              "    <path d=\"M0 0h24v24H0V0z\" fill=\"none\"/>\n",
              "    <path d=\"M18.56 5.44l.94 2.06.94-2.06 2.06-.94-2.06-.94-.94-2.06-.94 2.06-2.06.94zm-11 1L8.5 8.5l.94-2.06 2.06-.94-2.06-.94L8.5 2.5l-.94 2.06-2.06.94zm10 10l.94 2.06.94-2.06 2.06-.94-2.06-.94-.94-2.06-.94 2.06-2.06.94z\"/><path d=\"M17.41 7.96l-1.37-1.37c-.4-.4-.92-.59-1.43-.59-.52 0-1.04.2-1.43.59L10.3 9.45l-7.72 7.72c-.78.78-.78 2.05 0 2.83L4 21.41c.39.39.9.59 1.41.59.51 0 1.02-.2 1.41-.59l7.78-7.78 2.81-2.81c.8-.78.8-2.07 0-2.86zM5.41 20L4 18.59l7.72-7.72 1.47 1.35L5.41 20z\"/>\n",
              "  </svg>\n",
              "      </button>\n",
              "      \n",
              "  <style>\n",
              "    .colab-df-container {\n",
              "      display:flex;\n",
              "      flex-wrap:wrap;\n",
              "      gap: 12px;\n",
              "    }\n",
              "\n",
              "    .colab-df-convert {\n",
              "      background-color: #E8F0FE;\n",
              "      border: none;\n",
              "      border-radius: 50%;\n",
              "      cursor: pointer;\n",
              "      display: none;\n",
              "      fill: #1967D2;\n",
              "      height: 32px;\n",
              "      padding: 0 0 0 0;\n",
              "      width: 32px;\n",
              "    }\n",
              "\n",
              "    .colab-df-convert:hover {\n",
              "      background-color: #E2EBFA;\n",
              "      box-shadow: 0px 1px 2px rgba(60, 64, 67, 0.3), 0px 1px 3px 1px rgba(60, 64, 67, 0.15);\n",
              "      fill: #174EA6;\n",
              "    }\n",
              "\n",
              "    [theme=dark] .colab-df-convert {\n",
              "      background-color: #3B4455;\n",
              "      fill: #D2E3FC;\n",
              "    }\n",
              "\n",
              "    [theme=dark] .colab-df-convert:hover {\n",
              "      background-color: #434B5C;\n",
              "      box-shadow: 0px 1px 3px 1px rgba(0, 0, 0, 0.15);\n",
              "      filter: drop-shadow(0px 1px 2px rgba(0, 0, 0, 0.3));\n",
              "      fill: #FFFFFF;\n",
              "    }\n",
              "  </style>\n",
              "\n",
              "      <script>\n",
              "        const buttonEl =\n",
              "          document.querySelector('#df-a20a7aab-7ae8-4f27-b52f-420c196df129 button.colab-df-convert');\n",
              "        buttonEl.style.display =\n",
              "          google.colab.kernel.accessAllowed ? 'block' : 'none';\n",
              "\n",
              "        async function convertToInteractive(key) {\n",
              "          const element = document.querySelector('#df-a20a7aab-7ae8-4f27-b52f-420c196df129');\n",
              "          const dataTable =\n",
              "            await google.colab.kernel.invokeFunction('convertToInteractive',\n",
              "                                                     [key], {});\n",
              "          if (!dataTable) return;\n",
              "\n",
              "          const docLinkHtml = 'Like what you see? Visit the ' +\n",
              "            '<a target=\"_blank\" href=https://colab.research.google.com/notebooks/data_table.ipynb>data table notebook</a>'\n",
              "            + ' to learn more about interactive tables.';\n",
              "          element.innerHTML = '';\n",
              "          dataTable['output_type'] = 'display_data';\n",
              "          await google.colab.output.renderOutput(dataTable, element);\n",
              "          const docLink = document.createElement('div');\n",
              "          docLink.innerHTML = docLinkHtml;\n",
              "          element.appendChild(docLink);\n",
              "        }\n",
              "      </script>\n",
              "    </div>\n",
              "  </div>\n",
              "  "
            ]
          },
          "metadata": {},
          "execution_count": 2
        }
      ]
    },
    {
      "cell_type": "code",
      "source": [
        "#Convert dataframe as tensor\n",
        "data=torch.tensor(iris[iris.columns[0:4]].values).float()\n",
        "#data\n",
        "#Labels conversion\n",
        "labels=torch.zeros(len(data),dtype=torch.long)\n",
        "labels[iris.species=='versicolor']=1\n",
        "labels[iris.species=='virginica']=2"
      ],
      "metadata": {
        "id": "IdKoMYg67Eto"
      },
      "execution_count": 3,
      "outputs": []
    },
    {
      "cell_type": "code",
      "source": [
        "#iris.species.unique()"
      ],
      "metadata": {
        "id": "64KE6XPIDCEU"
      },
      "execution_count": 26,
      "outputs": []
    },
    {
      "cell_type": "code",
      "source": [
        "##########Seperate Data into train and test set\n",
        "#No dev set only train and test set\n",
        "\n",
        "#How many training examples\n",
        "propTraining=.8 #proportion of training data\n",
        "nTraining=int(propTraining*len(labels))\n",
        "\n",
        "# TraintestBool=np.zeros(len(labels),dtype=bool)\n",
        "trainSet=np.random.choice(range(len(labels)),nTraining,replace=False)\n",
        "TraintestBool[trainSet]=True\n",
        "TraintestBool\n",
        "print(torch.mean(labels.float()))\n",
        "print('\\n')\n",
        "print(torch.mean(labels[TraintestBool].float()))\n",
        "print('\\n')\n",
        "print(torch.mean(labels[~TraintestBool].float()))\n"
      ],
      "metadata": {
        "id": "QgZmz0NACX9B",
        "colab": {
          "base_uri": "https://localhost:8080/"
        },
        "outputId": "54c56cdb-0e58-48bb-ea3b-3fe9a6a83ecd"
      },
      "execution_count": 15,
      "outputs": [
        {
          "output_type": "stream",
          "name": "stdout",
          "text": [
            "tensor(1.)\n",
            "\n",
            "\n",
            "tensor(0.9930)\n",
            "\n",
            "\n",
            "tensor(1.1429)\n"
          ]
        }
      ]
    },
    {
      "cell_type": "code",
      "source": [
        "############Create Model\n",
        "\n",
        "ANNiris=nn.Sequential(\n",
        "    nn.Linear(4,64),\n",
        "    nn.ReLU(),\n",
        "    nn.Linear(64,64),\n",
        "    nn.ReLU(),\n",
        "    nn.Linear(64,3)\n",
        ")\n",
        "\n",
        "#Lossfunction\n",
        "lossfunc=nn.CrossEntropyLoss()\n",
        "\n",
        "#optimizer\n",
        "optimizer=torch.optim.SGD(ANNiris.parameters(),lr=.01)\n",
        "\n"
      ],
      "metadata": {
        "id": "bt_YHKyljTXM"
      },
      "execution_count": 16,
      "outputs": []
    },
    {
      "cell_type": "code",
      "source": [
        "print(data.shape)\n",
        "print('/n')\n",
        "print(data[TraintestBool,:].shape)\n",
        "print('/n')\n",
        "print(data[~TraintestBool,:].shape)"
      ],
      "metadata": {
        "colab": {
          "base_uri": "https://localhost:8080/"
        },
        "id": "GQ-HBCnWlyCe",
        "outputId": "c7f3c1ac-8402-4f4a-8f5a-cf25ce6ef319"
      },
      "execution_count": 17,
      "outputs": [
        {
          "output_type": "stream",
          "name": "stdout",
          "text": [
            "torch.Size([150, 4])\n",
            "/n\n",
            "torch.Size([143, 4])\n",
            "/n\n",
            "torch.Size([7, 4])\n"
          ]
        }
      ]
    },
    {
      "cell_type": "code",
      "source": [
        "######################Train and test the Model\n",
        "numepochs=1000\n",
        "\n",
        "#Initialize losses and accuracy\n",
        "losses=np.zeros(numepochs)\n",
        "ongoingACC=[]\n",
        "\n",
        "#Loop\n",
        "for epochi in range(numepochs):\n",
        "\n",
        "  #forward pass\n",
        "  yHat=ANNiris(data[TraintestBool,:])\n",
        "\n",
        "  #Loss computation\n",
        "  loss=lossfunc(yHat,labels[TraintestBool])\n",
        "  losses[epochi]=loss\n",
        "\n",
        "  ##Accuracy\n",
        "  ongoingACC.append(100*torch.mean((torch.argmax(yHat,axis=1)==labels[TraintestBool]).float()))\n",
        "  \n",
        "\n",
        "\n",
        "\n",
        "  #Backprop\n",
        "  optimizer.zero_grad()\n",
        "  loss.backward()\n",
        "  optimizer.step()\n"
      ],
      "metadata": {
        "id": "QbJ-oiFdnkTg"
      },
      "execution_count": 26,
      "outputs": []
    },
    {
      "cell_type": "code",
      "source": [
        "########Compute Train and test accuracy\n",
        "#prediction with training data\n",
        "pred=ANNiris(data[TraintestBool,:])\n",
        "trainacc=(100*torch.mean((torch.argmax(pred,axis=1)==labels[TraintestBool]).float()))\n",
        "print('Train Accuracy: %g%% ' %trainacc)\n",
        "\n",
        "#Test Accuracy\n",
        "predTest=ANNiris(data[~TraintestBool,:])\n",
        "testacc=(100*torch.mean((torch.argmax(predTest,axis=1)==labels[~TraintestBool]).float()))\n",
        "print('Test Accuracy: %g%%' %testacc)"
      ],
      "metadata": {
        "colab": {
          "base_uri": "https://localhost:8080/"
        },
        "id": "4Jt7uwngprTt",
        "outputId": "5b1ea9ae-e908-4984-f08c-e52d719e6318"
      },
      "execution_count": 29,
      "outputs": [
        {
          "output_type": "stream",
          "name": "stdout",
          "text": [
            "Train Accuracy: 97.9021% \n",
            "Test Accuracy: 100%\n"
          ]
        }
      ]
    }
  ]
}