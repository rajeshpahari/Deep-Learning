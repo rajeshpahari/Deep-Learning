{
  "nbformat": 4,
  "nbformat_minor": 0,
  "metadata": {
    "colab": {
      "provenance": [],
      "authorship_tag": "ABX9TyOzxksQk3EX9ryrcp89Oixd",
      "include_colab_link": true
    },
    "kernelspec": {
      "name": "python3",
      "display_name": "Python 3"
    },
    "language_info": {
      "name": "python"
    }
  },
  "cells": [
    {
      "cell_type": "markdown",
      "metadata": {
        "id": "view-in-github",
        "colab_type": "text"
      },
      "source": [
        "<a href=\"https://colab.research.google.com/github/rajeshpahari/Deep-Learning/blob/main/Pytorch_Cross_validations_DataLoader_drop_Last.ipynb\" target=\"_parent\"><img src=\"https://colab.research.google.com/assets/colab-badge.svg\" alt=\"Open In Colab\"/></a>"
      ]
    },
    {
      "cell_type": "markdown",
      "source": [
        "# **Experiment with different parameters**\n",
        "lr=.0005,.01,.001\n",
        "batch sizes=16,4,54\n",
        "\n",
        "See the variance in model"
      ],
      "metadata": {
        "id": "6Gw_45Dild1b"
      }
    },
    {
      "cell_type": "code",
      "execution_count": 63,
      "metadata": {
        "id": "sjw7vQQ72LEH"
      },
      "outputs": [],
      "source": [
        "#Import libraries\n",
        "import numpy as np\n",
        "import torch \n",
        "import torch.nn as nn\n",
        "import matplotlib.pyplot as plt\n",
        "import seaborn as sns\n",
        "from sklearn.model_selection import train_test_split\n",
        "\n",
        "from torch.utils.data import DataLoader,TensorDataset\n"
      ]
    },
    {
      "cell_type": "code",
      "source": [
        "iris=sns.load_dataset('iris')\n",
        "iris.head()"
      ],
      "metadata": {
        "colab": {
          "base_uri": "https://localhost:8080/",
          "height": 206
        },
        "id": "vXVMyHowCjZP",
        "outputId": "c14e2ce6-56d0-41f6-d511-2f1d470f869e"
      },
      "execution_count": 64,
      "outputs": [
        {
          "output_type": "execute_result",
          "data": {
            "text/plain": [
              "   sepal_length  sepal_width  petal_length  petal_width species\n",
              "0           5.1          3.5           1.4          0.2  setosa\n",
              "1           4.9          3.0           1.4          0.2  setosa\n",
              "2           4.7          3.2           1.3          0.2  setosa\n",
              "3           4.6          3.1           1.5          0.2  setosa\n",
              "4           5.0          3.6           1.4          0.2  setosa"
            ],
            "text/html": [
              "\n",
              "  <div id=\"df-25e7ec7b-4992-4180-b74a-2aced1cb11f9\">\n",
              "    <div class=\"colab-df-container\">\n",
              "      <div>\n",
              "<style scoped>\n",
              "    .dataframe tbody tr th:only-of-type {\n",
              "        vertical-align: middle;\n",
              "    }\n",
              "\n",
              "    .dataframe tbody tr th {\n",
              "        vertical-align: top;\n",
              "    }\n",
              "\n",
              "    .dataframe thead th {\n",
              "        text-align: right;\n",
              "    }\n",
              "</style>\n",
              "<table border=\"1\" class=\"dataframe\">\n",
              "  <thead>\n",
              "    <tr style=\"text-align: right;\">\n",
              "      <th></th>\n",
              "      <th>sepal_length</th>\n",
              "      <th>sepal_width</th>\n",
              "      <th>petal_length</th>\n",
              "      <th>petal_width</th>\n",
              "      <th>species</th>\n",
              "    </tr>\n",
              "  </thead>\n",
              "  <tbody>\n",
              "    <tr>\n",
              "      <th>0</th>\n",
              "      <td>5.1</td>\n",
              "      <td>3.5</td>\n",
              "      <td>1.4</td>\n",
              "      <td>0.2</td>\n",
              "      <td>setosa</td>\n",
              "    </tr>\n",
              "    <tr>\n",
              "      <th>1</th>\n",
              "      <td>4.9</td>\n",
              "      <td>3.0</td>\n",
              "      <td>1.4</td>\n",
              "      <td>0.2</td>\n",
              "      <td>setosa</td>\n",
              "    </tr>\n",
              "    <tr>\n",
              "      <th>2</th>\n",
              "      <td>4.7</td>\n",
              "      <td>3.2</td>\n",
              "      <td>1.3</td>\n",
              "      <td>0.2</td>\n",
              "      <td>setosa</td>\n",
              "    </tr>\n",
              "    <tr>\n",
              "      <th>3</th>\n",
              "      <td>4.6</td>\n",
              "      <td>3.1</td>\n",
              "      <td>1.5</td>\n",
              "      <td>0.2</td>\n",
              "      <td>setosa</td>\n",
              "    </tr>\n",
              "    <tr>\n",
              "      <th>4</th>\n",
              "      <td>5.0</td>\n",
              "      <td>3.6</td>\n",
              "      <td>1.4</td>\n",
              "      <td>0.2</td>\n",
              "      <td>setosa</td>\n",
              "    </tr>\n",
              "  </tbody>\n",
              "</table>\n",
              "</div>\n",
              "      <button class=\"colab-df-convert\" onclick=\"convertToInteractive('df-25e7ec7b-4992-4180-b74a-2aced1cb11f9')\"\n",
              "              title=\"Convert this dataframe to an interactive table.\"\n",
              "              style=\"display:none;\">\n",
              "        \n",
              "  <svg xmlns=\"http://www.w3.org/2000/svg\" height=\"24px\"viewBox=\"0 0 24 24\"\n",
              "       width=\"24px\">\n",
              "    <path d=\"M0 0h24v24H0V0z\" fill=\"none\"/>\n",
              "    <path d=\"M18.56 5.44l.94 2.06.94-2.06 2.06-.94-2.06-.94-.94-2.06-.94 2.06-2.06.94zm-11 1L8.5 8.5l.94-2.06 2.06-.94-2.06-.94L8.5 2.5l-.94 2.06-2.06.94zm10 10l.94 2.06.94-2.06 2.06-.94-2.06-.94-.94-2.06-.94 2.06-2.06.94z\"/><path d=\"M17.41 7.96l-1.37-1.37c-.4-.4-.92-.59-1.43-.59-.52 0-1.04.2-1.43.59L10.3 9.45l-7.72 7.72c-.78.78-.78 2.05 0 2.83L4 21.41c.39.39.9.59 1.41.59.51 0 1.02-.2 1.41-.59l7.78-7.78 2.81-2.81c.8-.78.8-2.07 0-2.86zM5.41 20L4 18.59l7.72-7.72 1.47 1.35L5.41 20z\"/>\n",
              "  </svg>\n",
              "      </button>\n",
              "      \n",
              "  <style>\n",
              "    .colab-df-container {\n",
              "      display:flex;\n",
              "      flex-wrap:wrap;\n",
              "      gap: 12px;\n",
              "    }\n",
              "\n",
              "    .colab-df-convert {\n",
              "      background-color: #E8F0FE;\n",
              "      border: none;\n",
              "      border-radius: 50%;\n",
              "      cursor: pointer;\n",
              "      display: none;\n",
              "      fill: #1967D2;\n",
              "      height: 32px;\n",
              "      padding: 0 0 0 0;\n",
              "      width: 32px;\n",
              "    }\n",
              "\n",
              "    .colab-df-convert:hover {\n",
              "      background-color: #E2EBFA;\n",
              "      box-shadow: 0px 1px 2px rgba(60, 64, 67, 0.3), 0px 1px 3px 1px rgba(60, 64, 67, 0.15);\n",
              "      fill: #174EA6;\n",
              "    }\n",
              "\n",
              "    [theme=dark] .colab-df-convert {\n",
              "      background-color: #3B4455;\n",
              "      fill: #D2E3FC;\n",
              "    }\n",
              "\n",
              "    [theme=dark] .colab-df-convert:hover {\n",
              "      background-color: #434B5C;\n",
              "      box-shadow: 0px 1px 3px 1px rgba(0, 0, 0, 0.15);\n",
              "      filter: drop-shadow(0px 1px 2px rgba(0, 0, 0, 0.3));\n",
              "      fill: #FFFFFF;\n",
              "    }\n",
              "  </style>\n",
              "\n",
              "      <script>\n",
              "        const buttonEl =\n",
              "          document.querySelector('#df-25e7ec7b-4992-4180-b74a-2aced1cb11f9 button.colab-df-convert');\n",
              "        buttonEl.style.display =\n",
              "          google.colab.kernel.accessAllowed ? 'block' : 'none';\n",
              "\n",
              "        async function convertToInteractive(key) {\n",
              "          const element = document.querySelector('#df-25e7ec7b-4992-4180-b74a-2aced1cb11f9');\n",
              "          const dataTable =\n",
              "            await google.colab.kernel.invokeFunction('convertToInteractive',\n",
              "                                                     [key], {});\n",
              "          if (!dataTable) return;\n",
              "\n",
              "          const docLinkHtml = 'Like what you see? Visit the ' +\n",
              "            '<a target=\"_blank\" href=https://colab.research.google.com/notebooks/data_table.ipynb>data table notebook</a>'\n",
              "            + ' to learn more about interactive tables.';\n",
              "          element.innerHTML = '';\n",
              "          dataTable['output_type'] = 'display_data';\n",
              "          await google.colab.output.renderOutput(dataTable, element);\n",
              "          const docLink = document.createElement('div');\n",
              "          docLink.innerHTML = docLinkHtml;\n",
              "          element.appendChild(docLink);\n",
              "        }\n",
              "      </script>\n",
              "    </div>\n",
              "  </div>\n",
              "  "
            ]
          },
          "metadata": {},
          "execution_count": 64
        }
      ]
    },
    {
      "cell_type": "markdown",
      "source": [],
      "metadata": {
        "id": "jFuG8qtliKZC"
      }
    },
    {
      "cell_type": "code",
      "source": [
        "#convert data to tensor\n",
        "data=torch.tensor(iris[iris.columns[0:4]].values).float()\n",
        "\n",
        "#Create labels & convert in numeric\n",
        "labels=torch.zeros(len(data),dtype=torch.long)\n",
        "#iris.species.unique()\n",
        "labels[iris.species=='versicolor']=1\n",
        "labels[iris.species=='virginica']=2\n",
        "#labels"
      ],
      "metadata": {
        "id": "LEXAREHOCo_X"
      },
      "execution_count": 65,
      "outputs": []
    },
    {
      "cell_type": "code",
      "source": [
        "#Split Train & Test data\n",
        "train_data, test_data, train_label, test_label = train_test_split(data, labels, train_size=.8)\n",
        "\n",
        "#Convert train & Test data to Pytorch Tensolr...get features & targets together\n",
        "train_data=TensorDataset(train_data,train_label)\n",
        "test_data=TensorDataset(test_data,test_label)\n",
        "\n",
        "#finally translate train and test data in dataloader\n",
        "batchsize=54\n",
        "train_loader=DataLoader(train_data,batch_size=batchsize,shuffle=True,drop_last=True)\n",
        "test_loader=DataLoader(test_data,batch_size=test_data.tensors[0].shape[0])"
      ],
      "metadata": {
        "id": "WM_lJGfthgZB"
      },
      "execution_count": 66,
      "outputs": []
    },
    {
      "cell_type": "code",
      "source": [
        "for X,y in train_loader:\n",
        "\n",
        "  print(X.shape,y.shape)\n",
        "#X,y\n",
        "#Notice final matrix is of different size...lets discard it.."
      ],
      "metadata": {
        "id": "Ct_7885Eltni",
        "colab": {
          "base_uri": "https://localhost:8080/"
        },
        "outputId": "b324ca26-74be-47a8-d64d-f2d4be64dbd7"
      },
      "execution_count": 67,
      "outputs": [
        {
          "output_type": "stream",
          "name": "stdout",
          "text": [
            "torch.Size([54, 4]) torch.Size([54])\n",
            "torch.Size([54, 4]) torch.Size([54])\n"
          ]
        }
      ]
    },
    {
      "cell_type": "code",
      "source": [
        "\n",
        "#############Create a Model\n",
        "def createNewModel():\n",
        "  #Model Architecture\n",
        "  ANNiris = nn.Sequential(\n",
        "      nn.Linear(4,64),\n",
        "      nn.ReLU(),\n",
        "      nn.Linear(64,64),\n",
        "      nn.ReLU(),\n",
        "      nn.Linear(64,3),\n",
        "  )\n",
        "\n",
        "  #Define Loss function\n",
        "  lossfunc=nn.CrossEntropyLoss()\n",
        "  #Define Optimizer\n",
        "  optimizer=torch.optim.SGD(ANNiris.parameters(),lr=.0005)\n",
        "\n",
        "  #return\n",
        "  return ANNiris,lossfunc,optimizer"
      ],
      "metadata": {
        "id": "ekUmLHFbmfre"
      },
      "execution_count": 68,
      "outputs": []
    },
    {
      "cell_type": "code",
      "source": [
        "###################Train te Model\n",
        "\n",
        "\n",
        "###Global Parameters\n",
        "numepochs=2500\n",
        "\n",
        "###Train the Model- Create a function\n",
        "def trainModel():\n",
        "\n",
        "  ##Intialize Accuracies for the epoch- each epoch only\n",
        "  trainacc=[]\n",
        "  testacc=[]\n",
        "\n",
        "  # Perform each Epoch- First Loop\n",
        "\n",
        "  for epochi in range(numepochs):\n",
        "\n",
        "    #Loop for each Batches- Second Loop\n",
        "    batchacc=[] # accuracy for each batch\n",
        "    for X,y in train_loader:\n",
        "\n",
        "      #foorward pass\n",
        "      yHat=ANNiris(X)\n",
        "\n",
        "      #calculate loss\n",
        "      loss=lossfunc(yHat,y)\n",
        "\n",
        "      #backpropos\n",
        "      optimizer.zero_grad()\n",
        "      loss.backward()\n",
        "      optimizer.step()\n",
        "\n",
        "      #Bath accuracy\n",
        "      batchacc.append(100*torch.mean((torch.argmax(yHat,axis=1)==y).float()).item())\n",
        "\n",
        "      #End of batch Loop\n",
        "\n",
        "\n",
        "    #Avarage training accuracy of all bacthes...we are in for loop ---out of batch loop\n",
        "    trainacc.append(np.mean(batchacc))\n",
        "\n",
        "    ##In each epoch calculate test accuracy\n",
        "\n",
        "    #feedforward for test data which is in only one batch..devide data from test loader in test-features and test_targets\n",
        "    X,y=next(iter(test_loader))\n",
        "    #predlabels=torch.argmax(ANNiris(X),axis=1)\n",
        "    testacc.append(100*torch.mean((torch.argmax(ANNiris(X),axis=1)==y).float()).item())\n",
        "\n",
        "  #Return Accuracies\n",
        "  return trainacc,testacc\n",
        "\n",
        "\n",
        "\n",
        "\n",
        "\n",
        "\n",
        "\n",
        "\n",
        "\n",
        "\n",
        "\n"
      ],
      "metadata": {
        "id": "lAdnaXJEmR29"
      },
      "execution_count": 69,
      "outputs": []
    },
    {
      "cell_type": "code",
      "source": [
        "#Create Model\n",
        "ANNiris,lossfunc,optimizer=createNewModel()\n",
        "trainacc,testacc=trainModel()\n",
        "\n"
      ],
      "metadata": {
        "id": "334E7crZvaYm"
      },
      "execution_count": 70,
      "outputs": []
    },
    {
      "cell_type": "code",
      "source": [
        "fig=plt.figure(figsize=(15,8))\n",
        "\n",
        "plt.plot(trainacc,'ro-')\n",
        "plt.plot(testacc,'bs-')\n",
        "plt.xlabel('Epoch')\n",
        "plt.ylabel('Accuracy')\n",
        "plt.title('Accuracy with minibatch sizes:'+str(batchsize),fontsize=18,color='m')\n",
        "plt.legend(['Train ACC','Test ACC'])\n",
        "plt.show()"
      ],
      "metadata": {
        "colab": {
          "base_uri": "https://localhost:8080/",
          "height": 517
        },
        "id": "nvGE7-DMv2__",
        "outputId": "726db959-4ef6-4b53-9160-3685559315a7"
      },
      "execution_count": 71,
      "outputs": [
        {
          "output_type": "display_data",
          "data": {
            "text/plain": [
              "<Figure size 1080x576 with 1 Axes>"
            ],
            "image/png": "[encoded data removed]"
          },
          "metadata": {
            "needs_background": "light"
          }
        }
      ]
    },
    {
      "cell_type": "code",
      "source": [
        "ig=plt.figure(figsize=(15,8))\n",
        "\n",
        "plt.plot(trainacc,'ro-')\n",
        "plt.plot(testacc,'bs-')\n",
        "plt.xlabel('Epoch')\n",
        "plt.ylabel('Accuracy')\n",
        "plt.title('Accuracy with minibatch sizes:'+str(batchsize),fontsize=18,color='m')\n",
        "plt.ylim([80,100])\n",
        "plt.legend(['Train ACC','Test ACC'])\n",
        "plt.show()"
      ],
      "metadata": {
        "colab": {
          "base_uri": "https://localhost:8080/",
          "height": 517
        },
        "id": "k64g7z4HkDlV",
        "outputId": "a8a20b1a-f552-4943-8b80-b3f51510a3eb"
      },
      "execution_count": 72,
      "outputs": [
        {
          "output_type": "display_data",
          "data": {
            "text/plain": [
              "<Figure size 1080x576 with 1 Axes>"
            ],
            "image/png": "[encoded data removed]"
          },
          "metadata": {
            "needs_background": "light"
          }
        }
      ]
    }
  ]
}